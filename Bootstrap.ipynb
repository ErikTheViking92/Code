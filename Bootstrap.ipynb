{
  "cells": [
    {
      "cell_type": "markdown",
      "metadata": {},
      "source": [
        "# Bootstrap"
      ]
    },
    {
      "cell_type": "markdown",
      "metadata": {},
      "source": [
        "Import all the packages and functions needed"
      ]
    },
    {
      "cell_type": "code",
      "metadata": {},
      "source": [
        "import numpy as np\n",
        "import pandas as pd\n",
        "\n",
        "# print numpy arrays with precision 4\n",
        "np.set_printoptions(precision=4)"
      ]
    },
    {
      "cell_type": "markdown",
      "metadata": {},
      "source": [
        "Import the data from the file Portfolio.csv. "
      ]
    },
    {
      "cell_type": "code",
      "metadata": {},
      "source": [
        "portfolio = pd.read_csv('./Data/Portfolio.csv', index_col=0)\n",
        "print(len(portfolio))\n",
        "portfolio.head()"
      ]
    },
    {
      "cell_type": "markdown",
      "metadata": {},
      "source": [
        "The goal is to determine the fraction of money $\\alpha$ to invest in one asset X\n",
        "and (1-$\\alpha$) in Y , such that the risk $Var (\\alpha X + (1 - \\alpha)Y )$ is minimized. "
      ]
    },
    {
      "cell_type": "markdown",
      "metadata": {},
      "source": [
        "$\\Rightarrow \\alpha=\\frac{\\sigma^2_Y - \\sigma_{XY}}{\\sigma^2_X + \\sigma^2_Y - 2\\sigma_{XY}}$"
      ]
    },
    {
      "cell_type": "markdown",
      "metadata": {},
      "source": [
        "BUT in reality, these variances and covariances are not known."
      ]
    },
    {
      "cell_type": "markdown",
      "metadata": {},
      "source": [
        "a) Write a function that returns the bootstrap estimates $\\hat{\\alpha}=\\frac{\\hat{\\sigma}^2_Y - \\hat{\\sigma}_{XY}}{\\hat{\\sigma}^2_X + \\hat{\\sigma}^2_Y - 2\\hat{\\sigma}_{XY}}$."
      ]
    },
    {
      "cell_type": "code",
      "metadata": {},
      "source": [
        "def alpha(df, num_samples=100):\n",
        "    indices = np.random.choice(df.index, num_samples, replace=True)\n",
        "    X = df.X[indices].values\n",
        "    Y = df.Y[indices].values    \n",
        "\n",
        "    return (np.var(Y) - np.cov(X, Y)[0, 1]) / (np.var(X) + np.var(Y) - 2 * np.cov(X, Y)[0, 1])\n",
        "\n",
        "np.random.seed(0)  # For reproducibility\n",
        "\n",
        "alpha_est = alpha(portfolio)\n",
        "print(f\"Alpha estimate: {alpha_est:.4f}\")"
      ]
    },
    {
      "cell_type": "markdown",
      "metadata": {},
      "source": [
        "b) Write a function that computes the SE of the estimate $\\hat{\\alpha}$."
      ]
    },
    {
      "cell_type": "code",
      "metadata": {
        "scrolled": false
      },
      "source": [
        "def boot(data, stasfunc, num_bootstrap_samples=1000):\n",
        "    stat_samples = []\n",
        "    for sample in range(num_bootstrap_samples):\n",
        "            stat_samples.append(stasfunc(data))\n",
        "\n",
        "    se_estimate = np.std(stat_samples, axis = 0)\n",
        "\n",
        "    print('\\nBootstrap standard error estimate: {:.4f}'.format(se_estimate))\n",
        "    return se_estimate\n",
        "\n",
        "np.random.seed(0)  # For reproducibility\n",
        "boot(portfolio, alpha, 1000)"
      ]
    }
  ],
  "metadata": {
    "kernelspec": {
      "display_name": ".venv",
      "language": "python",
      "name": "python3"
    },
    "language_info": {
      "codemirror_mode": {
        "name": "ipython",
        "version": 3
      },
      "file_extension": ".py",
      "mimetype": "text/x-python",
      "name": "python",
      "nbconvert_exporter": "python",
      "pygments_lexer": "ipython3",
      "version": "3.12.3"
    }
  },
  "nbformat": 4,
  "nbformat_minor": 1
}

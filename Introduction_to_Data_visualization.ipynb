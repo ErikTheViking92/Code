{
  "cells": [
    {
      "cell_type": "code",
      "metadata": {},
      "source": [
        "import pandas as pd"
      ]
    },
    {
      "cell_type": "code",
      "metadata": {},
      "source": [
        "d = pd.read_csv('../data/auto-mpg.csv')\n",
        "d.origin = pd.Categorical(d.origin.replace({1: 'america', 2: 'europe', 3: 'asia'}))"
      ]
    },
    {
      "cell_type": "code",
      "metadata": {},
      "source": [
        "import matplotlib.pyplot as plt\n",
        "import seaborn as sns"
      ]
    },
    {
      "cell_type": "code",
      "metadata": {},
      "source": [
        "sns.set_style('white')\n",
        "sns.set_palette('Accent')\n",
        "#sns.color_palette()\n",
        "plt.rcParams['figure.figsize'] = (8,6)"
      ]
    },
    {
      "cell_type": "markdown",
      "metadata": {},
      "source": [
        "### Distribution of one variable"
      ]
    },
    {
      "cell_type": "code",
      "metadata": {},
      "source": [
        "sns.distplot(d.mpg, kde=True, bins=20, color='green');"
      ]
    },
    {
      "cell_type": "markdown",
      "metadata": {},
      "source": [
        "#### Change the aggregation level"
      ]
    },
    {
      "cell_type": "code",
      "metadata": {},
      "source": [
        "sns.distplot(d.mpg, kde=False, bins=10, color='blue');"
      ]
    },
    {
      "cell_type": "markdown",
      "metadata": {},
      "source": [
        "#### Plot the Kernel Density Estimate"
      ]
    },
    {
      "cell_type": "code",
      "metadata": {},
      "source": [
        "sns.distplot(d.mpg, color='red');"
      ]
    },
    {
      "cell_type": "markdown",
      "metadata": {},
      "source": [
        "### Distribution of two variables"
      ]
    },
    {
      "cell_type": "code",
      "metadata": {},
      "source": [
        "sns.scatterplot(x='weight', y='mpg', data=d, color='red');"
      ]
    },
    {
      "cell_type": "markdown",
      "metadata": {},
      "source": [
        "#### Colour by a categorical variable"
      ]
    },
    {
      "cell_type": "code",
      "metadata": {},
      "source": [
        "sns.relplot(x='weight', y='mpg', hue='origin', data=d);"
      ]
    },
    {
      "cell_type": "markdown",
      "metadata": {},
      "source": [
        "#### Colour by a categorical variable and adjust the weight by a continuous one"
      ]
    },
    {
      "cell_type": "code",
      "metadata": {},
      "source": [
        "sns.relplot(x='weight', y='mpg', hue='origin', size='cylinders', data=d);"
      ]
    },
    {
      "cell_type": "markdown",
      "metadata": {},
      "source": [
        "### Plot the correlation matrix"
      ]
    },
    {
      "cell_type": "code",
      "metadata": {},
      "source": [
        "corr = d.corr()\n",
        "fig, ax = plt.subplots(figsize=(10,8))\n",
        "h = sns.heatmap(corr, cmap=plt.cm.RdYlGn, annot=True, linewidths=1, square=True, ax=ax)\n",
        "ax.set_ylim(len(corr),0) # Due to a bug in Matplotlib 3.1.1\n",
        "h.set_xticklabels(h.get_xticklabels(), rotation=90, ha='right')\n",
        "h.set_yticklabels(h.get_yticklabels(), rotation=0, ha='right');"
      ]
    },
    {
      "cell_type": "markdown",
      "metadata": {},
      "source": [
        "### Combine scatterplots and histograms"
      ]
    },
    {
      "cell_type": "code",
      "metadata": {},
      "source": [
        "sns.pairplot(d, hue='origin');"
      ]
    },
    {
      "cell_type": "code",
      "metadata": {},
      "source": [
        "#change the kind og the plot to 'reg' ('regression') to also plot the regression lines\n",
        "#change the diag_kind to 'hist' to plot the histogram instead of the kernel density estimate on the diagonal\n",
        "sns.pairplot(d, kind='reg', diag_kind='hist');"
      ]
    },
    {
      "cell_type": "code",
      "metadata": {},
      "source": [
        "pg = sns.PairGrid(d)\n",
        "pg = pg.map_diag(plt.hist) #plot the histogram on the diagonal\n",
        "pg = pg.map_upper(plt.scatter) #above the diagonal plot the scatterplots\n",
        "pg = pg.map_lower(sns.kdeplot) #below the diagonal plot the kernel density estimates\n",
        "pg = pg.add_legend()"
      ]
    },
    {
      "cell_type": "code",
      "metadata": {},
      "source": []
    }
  ],
  "metadata": {
    "kernelspec": {
      "display_name": ".venv",
      "language": "python",
      "name": "python3"
    },
    "language_info": {
      "codemirror_mode": {
        "name": "ipython",
        "version": 3
      },
      "file_extension": ".py",
      "mimetype": "text/x-python",
      "name": "python",
      "nbconvert_exporter": "python",
      "pygments_lexer": "ipython3",
      "version": "3.12.3"
    }
  },
  "nbformat": 4,
  "nbformat_minor": 2
}

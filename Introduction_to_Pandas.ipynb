{
  "cells": [
    {
      "cell_type": "markdown",
      "metadata": {},
      "source": [
        "## Using Pandas"
      ]
    },
    {
      "cell_type": "markdown",
      "metadata": {},
      "source": [
        "### Import the Pandas package"
      ]
    },
    {
      "cell_type": "code",
      "metadata": {},
      "source": [
        "import pandas as pd"
      ]
    },
    {
      "cell_type": "markdown",
      "metadata": {},
      "source": [
        "## Read data from a comma-separated file"
      ]
    },
    {
      "cell_type": "markdown",
      "metadata": {},
      "source": [
        "### Read the Data from the file 'auto-mpg.csv'"
      ]
    },
    {
      "cell_type": "code",
      "metadata": {},
      "source": [
        "d = pd.read_csv('../data/auto-mpg.csv')"
      ]
    },
    {
      "cell_type": "code",
      "metadata": {},
      "source": [
        "d.head()"
      ]
    },
    {
      "cell_type": "markdown",
      "metadata": {},
      "source": [
        "## Basic operations on data"
      ]
    },
    {
      "cell_type": "markdown",
      "metadata": {},
      "source": [
        "### Show the columns"
      ]
    },
    {
      "cell_type": "code",
      "metadata": {},
      "source": [
        "d.columns"
      ]
    },
    {
      "cell_type": "markdown",
      "metadata": {},
      "source": [
        "### Calculate the average of each column"
      ]
    },
    {
      "cell_type": "code",
      "metadata": {},
      "source": [
        "d.mean()"
      ]
    },
    {
      "cell_type": "markdown",
      "metadata": {},
      "source": [
        "### Calculate the median of each column"
      ]
    },
    {
      "cell_type": "code",
      "metadata": {},
      "source": [
        "d.median()"
      ]
    },
    {
      "cell_type": "markdown",
      "metadata": {},
      "source": [
        "### Calculate maximum and minimum of each column"
      ]
    },
    {
      "cell_type": "code",
      "metadata": {},
      "source": [
        "d.max()"
      ]
    },
    {
      "cell_type": "code",
      "metadata": {},
      "source": [
        "d.min()"
      ]
    },
    {
      "cell_type": "markdown",
      "metadata": {},
      "source": [
        "### Get general information about the data"
      ]
    },
    {
      "cell_type": "code",
      "metadata": {},
      "source": [
        "d.describe().round(1)"
      ]
    },
    {
      "cell_type": "markdown",
      "metadata": {},
      "source": [
        "### List unique values in a column"
      ]
    },
    {
      "cell_type": "code",
      "metadata": {},
      "source": [
        "d['year'].unique()"
      ]
    },
    {
      "cell_type": "markdown",
      "metadata": {},
      "source": [
        "### Filter the dataset"
      ]
    },
    {
      "cell_type": "code",
      "metadata": {},
      "source": [
        "d[d.year == 80].head()"
      ]
    },
    {
      "cell_type": "code",
      "metadata": {},
      "source": [
        "d[d.hp > 220]"
      ]
    },
    {
      "cell_type": "code",
      "metadata": {},
      "source": [
        "d[d.hp > 220].mean() # Mean only for vehicles with > 220hp"
      ]
    },
    {
      "cell_type": "markdown",
      "metadata": {},
      "source": [
        "#### Filter on two conditions with AND"
      ]
    },
    {
      "cell_type": "code",
      "metadata": {},
      "source": [
        "d[(d.hp < 70) & (d.origin == 1)].head()"
      ]
    },
    {
      "cell_type": "markdown",
      "metadata": {},
      "source": [
        "#### Filter on two conditions with OR"
      ]
    },
    {
      "cell_type": "code",
      "metadata": {},
      "source": [
        "d[(d.hp < 60) | (d.hp > 220)].head()"
      ]
    },
    {
      "cell_type": "markdown",
      "metadata": {},
      "source": [
        "#### Negate condition with NOT"
      ]
    },
    {
      "cell_type": "code",
      "metadata": {},
      "source": [
        "d[~(d.hp >= 60)].head() # Equivalent to d.hp < 60"
      ]
    },
    {
      "cell_type": "markdown",
      "metadata": {},
      "source": [
        "### Count the number of entries (rows)"
      ]
    },
    {
      "cell_type": "code",
      "metadata": {},
      "source": [
        "len(d)"
      ]
    },
    {
      "cell_type": "code",
      "metadata": {},
      "source": [
        "len(d[d.hp < 100]) # Only count filtered entries"
      ]
    },
    {
      "cell_type": "markdown",
      "metadata": {},
      "source": [
        "## Aggregate data"
      ]
    },
    {
      "cell_type": "markdown",
      "metadata": {},
      "source": [
        "### Groupby"
      ]
    },
    {
      "cell_type": "markdown",
      "metadata": {},
      "source": [
        "#### Group by year, and show mean values for the other columns"
      ]
    },
    {
      "cell_type": "code",
      "metadata": {},
      "source": [
        "d.groupby('year').mean().round(1)"
      ]
    },
    {
      "cell_type": "markdown",
      "metadata": {},
      "source": [
        "#### Group by two columns, considering all possible combinations of values"
      ]
    },
    {
      "cell_type": "code",
      "metadata": {},
      "source": [
        "d.groupby(['origin', 'cylinders']).mean()"
      ]
    },
    {
      "cell_type": "markdown",
      "metadata": {},
      "source": [
        "### Pivot tables"
      ]
    },
    {
      "cell_type": "code",
      "metadata": {},
      "source": [
        "d.pivot_table(index='year', columns='cylinders', values='mpg').round(1).fillna('')"
      ]
    },
    {
      "cell_type": "markdown",
      "metadata": {},
      "source": [
        "## Modifying a dataframe"
      ]
    },
    {
      "cell_type": "code",
      "metadata": {},
      "source": [
        "d['double_mpg'] = d.mpg * 2"
      ]
    },
    {
      "cell_type": "code",
      "metadata": {},
      "source": [
        "d.head()"
      ]
    },
    {
      "cell_type": "code",
      "metadata": {},
      "source": [
        "import numpy as np\n",
        "\n",
        "d['log_weight'] = np.log(d.weight)"
      ]
    },
    {
      "cell_type": "code",
      "metadata": {},
      "source": [
        "d.head()"
      ]
    },
    {
      "cell_type": "code",
      "metadata": {},
      "source": [
        "d['hp_per_lb'] = d.hp / d.weight"
      ]
    },
    {
      "cell_type": "code",
      "metadata": {},
      "source": [
        "d.head()"
      ]
    },
    {
      "cell_type": "markdown",
      "metadata": {},
      "source": [
        "## Correlation matrix"
      ]
    },
    {
      "cell_type": "code",
      "metadata": {},
      "source": [
        "d.corr().round(2)"
      ]
    },
    {
      "cell_type": "markdown",
      "metadata": {},
      "source": [
        "## Data imputation"
      ]
    },
    {
      "cell_type": "markdown",
      "metadata": {},
      "source": [
        "### Load a dataframe with missing values"
      ]
    },
    {
      "cell_type": "code",
      "metadata": {},
      "source": [
        "dm = pd.read_csv('../data/auto-mpg-orig.csv')\n",
        "dm.head()"
      ]
    },
    {
      "cell_type": "markdown",
      "metadata": {},
      "source": [
        "#### Sometimes `describe` shows missing data immediately. Sometimes not!"
      ]
    },
    {
      "cell_type": "code",
      "metadata": {},
      "source": [
        "dm.describe().round(1)"
      ]
    },
    {
      "cell_type": "markdown",
      "metadata": {},
      "source": [
        "#### Tip: look for `object` columns"
      ]
    },
    {
      "cell_type": "code",
      "metadata": {},
      "source": [
        "obj_cols = [c for c, t in dm.dtypes.items() if t == 'object']"
      ]
    },
    {
      "cell_type": "code",
      "metadata": {},
      "source": [
        "obj_cols"
      ]
    },
    {
      "cell_type": "markdown",
      "metadata": {},
      "source": [
        "#### Spot the non-numeric values"
      ]
    },
    {
      "cell_type": "code",
      "metadata": {},
      "source": [
        "pd.to_numeric(dm.hp)"
      ]
    },
    {
      "cell_type": "code",
      "metadata": {},
      "source": [
        "dm[dm.hp == '?']"
      ]
    },
    {
      "cell_type": "markdown",
      "metadata": {},
      "source": [
        "#### Convert the column to numeric and coerce non-numeric values to `NaN`"
      ]
    },
    {
      "cell_type": "code",
      "metadata": {},
      "source": [
        "dm.hp = pd.to_numeric(dm.hp, errors='coerce')"
      ]
    },
    {
      "cell_type": "code",
      "metadata": {},
      "source": [
        "dm[dm.hp.isna()]"
      ]
    },
    {
      "cell_type": "markdown",
      "metadata": {},
      "source": [
        "#### Impute the mean"
      ]
    },
    {
      "cell_type": "code",
      "metadata": {},
      "source": [
        "imp1 = dm.fillna(dm.mean())"
      ]
    },
    {
      "cell_type": "code",
      "metadata": {},
      "source": [
        "imp1[dm.hp.isna()]"
      ]
    },
    {
      "cell_type": "markdown",
      "metadata": {},
      "source": [
        "#### Impute the mean of similar rows"
      ]
    },
    {
      "cell_type": "code",
      "metadata": {},
      "source": [
        "imp2 = dm.groupby(['year', 'origin', 'cylinders']).transform(lambda group: group.fillna(group.mean()))"
      ]
    },
    {
      "cell_type": "code",
      "metadata": {},
      "source": [
        "imp2[dm.hp.isna()]"
      ]
    },
    {
      "cell_type": "markdown",
      "metadata": {},
      "source": [
        "Other techniques:\n",
        "* MICE (Multiple Imputation by Chained Equations)\n",
        "* Imputation by nearest neighbours"
      ]
    }
  ],
  "metadata": {
    "kernelspec": {
      "display_name": ".venv",
      "language": "python",
      "name": "python3"
    },
    "language_info": {
      "codemirror_mode": {
        "name": "ipython",
        "version": 3
      },
      "file_extension": ".py",
      "mimetype": "text/x-python",
      "name": "python",
      "nbconvert_exporter": "python",
      "pygments_lexer": "ipython3",
      "version": "3.12.3"
    }
  },
  "nbformat": 4,
  "nbformat_minor": 2
}

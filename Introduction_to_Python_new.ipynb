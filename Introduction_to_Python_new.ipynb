{
  "cells": [
    {
      "cell_type": "markdown",
      "metadata": {},
      "source": [
        "# Machine learning and Data Analytics"
      ]
    },
    {
      "cell_type": "markdown",
      "metadata": {},
      "source": [
        "## Algebraic operations\n",
        "\n",
        "|Expression |Name        | Description                                                |\n",
        "|:----------|:-----------|:-----------------------------------------------------------|\n",
        "|x + y      |plus | performs addition                                          |\n",
        "|x - y      |minus| performs subtraction                                       |\n",
        "|x * y      |times       | performs multiplication                                    |\n",
        "|x / y      |divide      | performs division                                          |\n",
        "|x // y     |floor divide| $x/y$, truncated to an integer                             |\n",
        "|x ** y     |power       | raises $x$ to the $y$th power                              |\n",
        "|x % y      |modulus     | equivalent to the remainder if all arguments are positive  |\n"
      ]
    },
    {
      "cell_type": "markdown",
      "metadata": {},
      "source": [
        "Addition"
      ]
    },
    {
      "cell_type": "code",
      "metadata": {},
      "source": []
    },
    {
      "cell_type": "code",
      "metadata": {},
      "source": [
        "40 + 2"
      ]
    },
    {
      "cell_type": "markdown",
      "metadata": {},
      "source": [
        "Subtraction"
      ]
    },
    {
      "cell_type": "code",
      "metadata": {},
      "source": [
        "43 - 1"
      ]
    },
    {
      "cell_type": "markdown",
      "metadata": {},
      "source": [
        "Multiplication"
      ]
    },
    {
      "cell_type": "code",
      "metadata": {},
      "source": [
        "6 * 7"
      ]
    },
    {
      "cell_type": "markdown",
      "metadata": {},
      "source": [
        "Division"
      ]
    },
    {
      "cell_type": "code",
      "metadata": {},
      "source": [
        "84 / 2"
      ]
    },
    {
      "cell_type": "markdown",
      "metadata": {},
      "source": [
        "Integer Division"
      ]
    },
    {
      "cell_type": "code",
      "metadata": {},
      "source": [
        "9 // 2"
      ]
    },
    {
      "cell_type": "markdown",
      "metadata": {},
      "source": [
        "Power"
      ]
    },
    {
      "cell_type": "code",
      "metadata": {},
      "source": [
        "3 ** 5 "
      ]
    },
    {
      "cell_type": "markdown",
      "metadata": {},
      "source": [
        "Modulus"
      ]
    },
    {
      "cell_type": "code",
      "metadata": {},
      "source": [
        "15 % 4"
      ]
    },
    {
      "cell_type": "markdown",
      "metadata": {},
      "source": [
        "## Variable assignment\n",
        "\n",
        "In Python we can define variables and assign values to them. These variables can have different types:\n",
        "\n",
        "|Type       |Name        | Example                                                |\n",
        "|:----------|:-----------|:-----------------------------------------------------------|\n",
        "|int   |Integer   | 1,5,9,-143                  |\n",
        "|float     |Float | 0.356, -1.5, 7.0             |\n",
        "|str   |String | 'Hello', '§473', '1', 'My name is Alina'               |\n",
        "|bool     |Boolean  | $\\texttt{True}$, $\\texttt{False}$               |\n"
      ]
    },
    {
      "cell_type": "code",
      "metadata": {},
      "source": [
        "x = 20"
      ]
    },
    {
      "cell_type": "code",
      "metadata": {},
      "source": [
        "y = 5"
      ]
    },
    {
      "cell_type": "markdown",
      "metadata": {},
      "source": [
        "To see the value of a variable we just type the variable name:"
      ]
    },
    {
      "cell_type": "code",
      "metadata": {},
      "source": [
        "x"
      ]
    },
    {
      "cell_type": "markdown",
      "metadata": {},
      "source": [
        "After assigning a value to a variable, we can use the variable:"
      ]
    },
    {
      "cell_type": "code",
      "metadata": {},
      "source": [
        "x + y"
      ]
    },
    {
      "cell_type": "code",
      "metadata": {},
      "source": [
        "x * y"
      ]
    },
    {
      "cell_type": "markdown",
      "metadata": {},
      "source": [
        "To change the value of a variable, we can use the following updating operators:\n",
        "\n",
        "\n",
        "|Expression |Name        | Description                                                |\n",
        "|:----------|:-----------|:-----------------------------------------------------------|\n",
        "|x += y      |increment | assigns the value of x + y to the variable x                                        |\n",
        "|x -= y      |decrement| assigns the value of x - y to the variable x                                      |"
      ]
    },
    {
      "cell_type": "markdown",
      "metadata": {},
      "source": [
        "Increment:"
      ]
    },
    {
      "cell_type": "code",
      "metadata": {},
      "source": [
        "x += 3"
      ]
    },
    {
      "cell_type": "code",
      "metadata": {},
      "source": [
        "x"
      ]
    },
    {
      "cell_type": "markdown",
      "metadata": {},
      "source": [
        "Decrement:"
      ]
    },
    {
      "cell_type": "code",
      "metadata": {},
      "source": [
        "y -= 2"
      ]
    },
    {
      "cell_type": "code",
      "metadata": {},
      "source": [
        "y"
      ]
    },
    {
      "cell_type": "markdown",
      "metadata": {},
      "source": [
        "## Logical statements\n",
        "\n",
        "Logical statements can either be $\\texttt{True}$ or $\\texttt{False}$. In the following table x and y are variables, a and b are logical statements. A logical statement is any statement, that can be clearly classified as either $\\texttt{True}$ or $\\texttt{False}$. An example of a statement that is $\\texttt{True}$ would be $1 + 5 = 6$. An example for a logical statement, that is $\\texttt{False}$ would be $1 = 2$.\n",
        "\n",
        "\n",
        "|Expression |Name        | Description                                                |\n",
        "|:----------|:-----------|:-----------------------------------------------------------|\n",
        "|x == y     |equality    | $\\texttt{True}$, if x is equal to y, $\\texttt{False}$ otherwise                  |\n",
        "|x != y     |inequality  | $\\texttt{True}$, if x is not equal to y, $\\texttt{False}$ otherwise              |\n",
        "|a and b    |logical AND | $\\texttt{True}$, if a and b are true, $\\texttt{False}$ otherwise                 |\n",
        "|a or b     |logical OR  | $\\texttt{True}$, if a or b are true, $\\texttt{False}$ otherwise                  |\n",
        "|!a         |logcal NOT  | $\\texttt{True}$, if a is false, $\\texttt{False}$ otherwise                       |"
      ]
    },
    {
      "cell_type": "markdown",
      "metadata": {},
      "source": [
        "Equality"
      ]
    },
    {
      "cell_type": "code",
      "metadata": {},
      "source": [
        "1 == 1 "
      ]
    },
    {
      "cell_type": "code",
      "metadata": {},
      "source": [
        "1 == 0"
      ]
    },
    {
      "cell_type": "markdown",
      "metadata": {},
      "source": [
        "Inequality"
      ]
    },
    {
      "cell_type": "code",
      "metadata": {},
      "source": [
        "1 != 0 "
      ]
    },
    {
      "cell_type": "markdown",
      "metadata": {},
      "source": [
        "Logical AND"
      ]
    },
    {
      "cell_type": "code",
      "metadata": {},
      "source": [
        "(1 == 1) and (2 == 2) "
      ]
    },
    {
      "cell_type": "code",
      "metadata": {},
      "source": [
        "(1 == 0) and (2 == 2)"
      ]
    },
    {
      "cell_type": "markdown",
      "metadata": {},
      "source": [
        "Logical OR"
      ]
    },
    {
      "cell_type": "code",
      "metadata": {},
      "source": [
        "(1 == 0) or (2 == 2) "
      ]
    },
    {
      "cell_type": "markdown",
      "metadata": {},
      "source": [
        "Logical NOT"
      ]
    },
    {
      "cell_type": "code",
      "metadata": {},
      "source": [
        "not (1 == 2)"
      ]
    },
    {
      "cell_type": "markdown",
      "metadata": {},
      "source": [
        "## Lists\n",
        "\n",
        "List can be used to store more than one element at a time. Lists defined by square brackets and the elements are seperated by commas."
      ]
    },
    {
      "cell_type": "code",
      "metadata": {},
      "source": [
        "[1, 3, 0, 3, 8, 2, 6, 4] "
      ]
    },
    {
      "cell_type": "markdown",
      "metadata": {},
      "source": [
        "We can store lists in variables."
      ]
    },
    {
      "cell_type": "code",
      "metadata": {},
      "source": [
        "l = [1, 3, 0, 3, 8, 2, 6, 4] "
      ]
    },
    {
      "cell_type": "code",
      "metadata": {},
      "source": [
        "l"
      ]
    },
    {
      "cell_type": "markdown",
      "metadata": {},
      "source": [
        "### Selecting list elements\n",
        "\n",
        "We are selcting list elements with the help of the position the element has in the list. **ATTENTION:** In Python the first position has the index 0."
      ]
    },
    {
      "cell_type": "markdown",
      "metadata": {},
      "source": [
        "Access the element at index 0 (first element)"
      ]
    },
    {
      "cell_type": "code",
      "metadata": {},
      "source": [
        "l[0] "
      ]
    },
    {
      "cell_type": "markdown",
      "metadata": {},
      "source": [
        "Access the element at index 1 (second element)"
      ]
    },
    {
      "cell_type": "code",
      "metadata": {},
      "source": [
        "l[1]"
      ]
    },
    {
      "cell_type": "markdown",
      "metadata": {},
      "source": [
        "Access the last element"
      ]
    },
    {
      "cell_type": "code",
      "metadata": {},
      "source": [
        "l[-1]"
      ]
    },
    {
      "cell_type": "markdown",
      "metadata": {},
      "source": [
        "Access the third-last element"
      ]
    },
    {
      "cell_type": "code",
      "metadata": {},
      "source": [
        "l[-3]"
      ]
    },
    {
      "cell_type": "markdown",
      "metadata": {},
      "source": [
        "Access the elements between index 2 and 4"
      ]
    },
    {
      "cell_type": "code",
      "metadata": {},
      "source": [
        "l[2:5]"
      ]
    },
    {
      "cell_type": "markdown",
      "metadata": {},
      "source": [
        "### List methods\n",
        "\n",
        "|Function | Description                                                |\n",
        "|:----------|:-----------------------------------------------------------|\n",
        "|len(L)      | Get the length of the list L                 |\n",
        "|min(L)   | Get the smallest element of a list L           |\n",
        "|max(L)   |Get the biggest element of a list L                 |\n",
        "|sum(L)     | Get the sum of all elements of the list L              |\n",
        "|L.index(e)          | Get the index of element e in the list L |\n",
        "|L.count(e)   | Count the element e in the list L                |\n",
        "|L.append(e)     | Add the element e to the end of list L              |\n",
        "|L.remove(e)          | Remove the element e from the list L  |\n",
        "|L.reverse() | Reverse the order of the list L |\n",
        "|L.insert(i,e) | Insert the element e at position i in list L|\n",
        "|L.sort() | Sort the list L |"
      ]
    },
    {
      "cell_type": "markdown",
      "metadata": {},
      "source": [
        "len()"
      ]
    },
    {
      "cell_type": "code",
      "metadata": {},
      "source": [
        "len(l) "
      ]
    },
    {
      "cell_type": "markdown",
      "metadata": {},
      "source": [
        "min()"
      ]
    },
    {
      "cell_type": "code",
      "metadata": {},
      "source": [
        "min(l)"
      ]
    },
    {
      "cell_type": "markdown",
      "metadata": {},
      "source": [
        "max()"
      ]
    },
    {
      "cell_type": "code",
      "metadata": {},
      "source": [
        "max(l)"
      ]
    },
    {
      "cell_type": "markdown",
      "metadata": {},
      "source": [
        "sum()"
      ]
    },
    {
      "cell_type": "code",
      "metadata": {},
      "source": [
        "sum(l)"
      ]
    },
    {
      "cell_type": "markdown",
      "metadata": {},
      "source": [
        "index()"
      ]
    },
    {
      "cell_type": "code",
      "metadata": {},
      "source": [
        "l.index(8)"
      ]
    },
    {
      "cell_type": "markdown",
      "metadata": {},
      "source": [
        "count()"
      ]
    },
    {
      "cell_type": "code",
      "metadata": {},
      "source": [
        "l.count(3)"
      ]
    },
    {
      "cell_type": "markdown",
      "metadata": {},
      "source": [
        "append()"
      ]
    },
    {
      "cell_type": "code",
      "metadata": {},
      "source": [
        "l.append(10)\n",
        "l"
      ]
    },
    {
      "cell_type": "markdown",
      "metadata": {},
      "source": [
        "remove()"
      ]
    },
    {
      "cell_type": "code",
      "metadata": {},
      "source": [
        "l.remove(2)"
      ]
    },
    {
      "cell_type": "markdown",
      "metadata": {},
      "source": [
        "reverse()"
      ]
    },
    {
      "cell_type": "code",
      "metadata": {},
      "source": [
        "l.reverse()"
      ]
    },
    {
      "cell_type": "markdown",
      "metadata": {},
      "source": [
        "insert()"
      ]
    },
    {
      "cell_type": "code",
      "metadata": {},
      "source": [
        "l.insert(3,100)\n",
        "l"
      ]
    },
    {
      "cell_type": "markdown",
      "metadata": {},
      "source": [
        "sort()"
      ]
    },
    {
      "cell_type": "code",
      "metadata": {},
      "source": [
        "l.sort()"
      ]
    },
    {
      "cell_type": "markdown",
      "metadata": {},
      "source": [
        "## Lists of lists\n",
        "\n",
        "We can also define lists of lists. They are handeled in exactly the same way, we just need to be careful, that now each element is also a list, and we can apply the list methods also to these lists."
      ]
    },
    {
      "cell_type": "code",
      "metadata": {},
      "source": [
        "two_dimensions = [\n",
        "    [1, 2, 3],\n",
        "    [4, 5, 6],\n",
        "    [7, 8, 9]\n",
        "]"
      ]
    },
    {
      "cell_type": "markdown",
      "metadata": {},
      "source": [
        "Access the first list"
      ]
    },
    {
      "cell_type": "code",
      "metadata": {},
      "source": [
        "two_dimensions[0]"
      ]
    },
    {
      "cell_type": "markdown",
      "metadata": {},
      "source": [
        "Access the third element of the second list"
      ]
    },
    {
      "cell_type": "code",
      "metadata": {},
      "source": [
        "two_dimensions[1][2]"
      ]
    },
    {
      "cell_type": "markdown",
      "metadata": {},
      "source": [
        "Append the element 8 to the second list."
      ]
    },
    {
      "cell_type": "code",
      "metadata": {},
      "source": [
        "two_dimensions[1].append(8)\n",
        "two_dimensions"
      ]
    },
    {
      "cell_type": "markdown",
      "metadata": {},
      "source": [
        "## Dictionaries\n",
        "\n",
        "Another method to store data in Python are dictionaries. The elements of a dictionary are pairs of a key and a value, where the key has to be unique."
      ]
    },
    {
      "cell_type": "markdown",
      "metadata": {},
      "source": [
        "We can for example store the population of cities in a dictionary. The elements have the name of the city as key and the population as value. "
      ]
    },
    {
      "cell_type": "code",
      "metadata": {},
      "source": [
        "population_k = {\n",
        "    'malaga': 570,\n",
        "    'salamanca': 145,\n",
        "    'pontevedra': 83,\n",
        "    'barcelona': 1620,\n",
        "    'logroño': 151\n",
        "}"
      ]
    },
    {
      "cell_type": "code",
      "metadata": {},
      "source": [
        "population_k"
      ]
    },
    {
      "cell_type": "markdown",
      "metadata": {},
      "source": [
        "We can access the value with the help of the key (that's why it needs to be unique). "
      ]
    },
    {
      "cell_type": "code",
      "metadata": {},
      "source": [
        "population_k['malaga']"
      ]
    },
    {
      "cell_type": "markdown",
      "metadata": {},
      "source": [
        "The function items() creates a list, that consists of tuples of the key, value pairs in the dictionary."
      ]
    },
    {
      "cell_type": "code",
      "metadata": {},
      "source": [
        "population_k.items()"
      ]
    },
    {
      "cell_type": "markdown",
      "metadata": {},
      "source": [
        "The function keys() creates a list, that consists of all the keys in the dictionary."
      ]
    },
    {
      "cell_type": "code",
      "metadata": {},
      "source": [
        "population_k.keys()"
      ]
    },
    {
      "cell_type": "markdown",
      "metadata": {},
      "source": [
        "The function values() creates a list, that consists all the values in the dictionary."
      ]
    },
    {
      "cell_type": "code",
      "metadata": {},
      "source": [
        "population_k.values()"
      ]
    },
    {
      "cell_type": "markdown",
      "metadata": {},
      "source": [
        "## The print function\n",
        "\n",
        "The print function can be used to print all kinds of different variables. Some examples are given below."
      ]
    },
    {
      "cell_type": "code",
      "metadata": {},
      "source": [
        "print('Hello world!')"
      ]
    },
    {
      "cell_type": "code",
      "metadata": {},
      "source": [
        "print('Hello world! \\nPrint this in a new line.')"
      ]
    },
    {
      "cell_type": "code",
      "metadata": {},
      "source": [
        "a = 10\n",
        "print(a)"
      ]
    },
    {
      "cell_type": "code",
      "metadata": {},
      "source": [
        "print('The variable a has the value', a, '.')"
      ]
    },
    {
      "cell_type": "code",
      "metadata": {},
      "source": [
        "myList = [1,2,3,4,5,6]\n",
        "print(myList)"
      ]
    },
    {
      "cell_type": "markdown",
      "metadata": {},
      "source": [
        "## Loops and Conditions\n",
        "ATTENTION: Python is working with indentation, so make sure your code is indented correctly, otherwise it'll not work."
      ]
    },
    {
      "cell_type": "markdown",
      "metadata": {},
      "source": [
        "### If-Condition\n",
        "\n",
        "$\\texttt{if}$ $\\textit{logical statment}$: <br>\n",
        ">    $\\textit{Commandblock}$\n",
        "    \n",
        "The commands in the $\\textit{Commandblock}$ are only executed if the $\\textit{logical statement}$ is true."
      ]
    },
    {
      "cell_type": "code",
      "metadata": {},
      "source": [
        "a = 1\n",
        "b = 2"
      ]
    },
    {
      "cell_type": "code",
      "metadata": {},
      "source": [
        "if a == b:\n",
        "    print('A equals B')"
      ]
    },
    {
      "cell_type": "markdown",
      "metadata": {},
      "source": [
        "What if we want to do different things, depending on whether the $\\textit{logical statement}$ is true or false?"
      ]
    },
    {
      "cell_type": "markdown",
      "metadata": {},
      "source": [
        "$\\texttt{if}$ $\\textit{logical statment}$: <br>\n",
        ">    $\\textit{Commandblock 1}$ <br> \n",
        "\n",
        "$\\texttt{else}$: <br>\n",
        ">  $\\textit{Commandblock 2}$  \n",
        "\n",
        "If the $\\textit{logical statement}$ is true, the commands in the $\\textit{Commandblock 1}$ are executed, if the $\\textit{logical statement}$ is false, the commands in the $\\textit{Commandblock 2}$ are executed."
      ]
    },
    {
      "cell_type": "markdown",
      "metadata": {},
      "source": [
        "What if we have more than two cases? "
      ]
    },
    {
      "cell_type": "code",
      "metadata": {},
      "source": [
        "if a == b:\n",
        "    print(\"A equals B\")\n",
        "else:\n",
        "    print(\"A not equal to B\")"
      ]
    },
    {
      "cell_type": "markdown",
      "metadata": {},
      "source": [
        "$\\texttt{if}$ $\\textit{logical statment 1}$: <br>\n",
        ">    $\\textit{Commandblock 1}$ <br> \n",
        "\n",
        "$\\texttt{elif}$ $\\textit{logical statment 2}$: <br>\n",
        ">    $\\textit{Commandblock 2}$ <br> \n",
        "\n",
        "$\\texttt{elif}$ $\\textit{logical statment 3}$: <br>\n",
        ">    $\\textit{Commandblock 3}$ <br> \n",
        "\n",
        "$\\texttt{else}$: <br>\n",
        ">  $\\textit{Commandblock 4}$  \n",
        "\n",
        "If the $\\textit{logical statement 1}$ is true, the commands in the $\\textit{Commandblock 1}$ are executed. <br>\n",
        "If the $\\textit{logical statement 2}$ is true and $\\textit{logical statement 1}$ is false, the commands in the $\\textit{Commandblock 2}$ are executed. <br>\n",
        "If the $\\textit{logical statement 3}$ is true and $\\textit{logical statement 1}$ and $\\textit{logical statement 2}$ are false, the commands in the $\\textit{Commandblock 3}$ are executed. <br>\n",
        "If neither of the statments $\\textit{logical statement 1}$, $\\textit{logical statement 2}$ and $\\textit{logical statement 3}$ is true, the commands in the $\\textit{Commandblock 4}$."
      ]
    },
    {
      "cell_type": "code",
      "metadata": {},
      "source": [
        "if a > b:\n",
        "    print(\"A > B\")\n",
        "elif a == b:\n",
        "    print(\"A = B\")\n",
        "else:\n",
        "    print(\"A < B\")"
      ]
    },
    {
      "cell_type": "markdown",
      "metadata": {},
      "source": [
        "### While-Loop\n",
        "\n",
        "$\\texttt{while}$ $\\textit{logical statement}$:\n",
        "> $\\textit{Commandblock}$\n",
        "\n",
        " The commands in the \\textit{Commandblock} are executed as long as the \\textit{logical statement} is true."
      ]
    },
    {
      "cell_type": "code",
      "metadata": {},
      "source": [
        "s = 0"
      ]
    },
    {
      "cell_type": "code",
      "metadata": {},
      "source": [
        "i = 1"
      ]
    },
    {
      "cell_type": "code",
      "metadata": {},
      "source": [
        "while i <= 100:\n",
        "    s += i\n",
        "    i += 1"
      ]
    },
    {
      "cell_type": "code",
      "metadata": {},
      "source": [
        "s"
      ]
    },
    {
      "cell_type": "markdown",
      "metadata": {},
      "source": [
        "### For-Loop\n",
        "\n",
        "$\\texttt{for}~\\textit{var}~\\texttt{in}~\\textit{sequence}$:\n",
        "> $\\textit{Commandblock}$\n",
        "\n",
        "The commands in the $\\textit{Commandblock}$ are executed for each element in $\\textit{sequence}$."
      ]
    },
    {
      "cell_type": "code",
      "metadata": {},
      "source": [
        "s = 0"
      ]
    },
    {
      "cell_type": "code",
      "metadata": {},
      "source": [
        "for i in [3,5,8]:\n",
        "    s += i"
      ]
    },
    {
      "cell_type": "code",
      "metadata": {},
      "source": [
        "s"
      ]
    },
    {
      "cell_type": "markdown",
      "metadata": {},
      "source": [
        "## Integer sequences with the range function $\\texttt{range([start], end, [increment])}$ \n",
        "-Start: Starting vaule, default:0 \n",
        "\n",
        "-End: End value, **not** included in the sequence \n",
        "\n",
        "-Increment: The increment of the sequence, default:1\n"
      ]
    },
    {
      "cell_type": "code",
      "metadata": {},
      "source": [
        "n = 10"
      ]
    },
    {
      "cell_type": "code",
      "metadata": {},
      "source": [
        "range(n)"
      ]
    },
    {
      "cell_type": "code",
      "metadata": {},
      "source": [
        "for i in range(n):\n",
        "    print(i)"
      ]
    },
    {
      "cell_type": "code",
      "metadata": {},
      "source": [
        "for i in range(4,n):\n",
        "    print(i)"
      ]
    },
    {
      "cell_type": "code",
      "metadata": {},
      "source": [
        "for i in range(1,n,2):\n",
        "    print(i)"
      ]
    },
    {
      "cell_type": "markdown",
      "metadata": {},
      "source": [
        "## Functions\n",
        "\n",
        "$\\texttt{def}~\\textit{functionname}~\\texttt{(parameters)}$:\n",
        "> $\\textit{Commandblock, compute results, etc.}$ <br>\n",
        "$\\texttt{return}~\\textit{results}$\n",
        "\n",
        "Define the function with the name $\\textit{functionname}$ and state the input $\\textit{parameters}$ and the $\\textit{result}$ you want to return."
      ]
    },
    {
      "cell_type": "code",
      "metadata": {},
      "source": [
        "def power(x,y):\n",
        "    res = x**y\n",
        "    return res"
      ]
    },
    {
      "cell_type": "code",
      "metadata": {},
      "source": [
        "a = 2\n",
        "b = 4"
      ]
    },
    {
      "cell_type": "code",
      "metadata": {},
      "source": [
        "power(a,b)"
      ]
    },
    {
      "cell_type": "markdown",
      "metadata": {},
      "source": [
        "## Import Python packages\n",
        "\n",
        "Because we can use Python for so many different applications, it does not make sense, to include ALL existing Python functions into the basic Python version. This is the reason, lots of them are grouped together into packages and can be loaded by importing the package.\n",
        "\n",
        "There are different options for importing packages in Python. We will demonstrate them by importing the $\\textit{statistics}$ package and using the function $\\texttt{mean()}$ which is included in that package. The function computes the mean of a given list of numbers."
      ]
    },
    {
      "cell_type": "markdown",
      "metadata": {},
      "source": [
        "Option 1:"
      ]
    },
    {
      "cell_type": "code",
      "metadata": {},
      "source": [
        "import statistics\n",
        "m = statistics.mean([1,2,3,4,5])\n",
        "m"
      ]
    },
    {
      "cell_type": "markdown",
      "metadata": {},
      "source": [
        "All functions from the $\\textit{statistics}$ package are imported and can be called with the prefix $\\texttt{statistics.}$."
      ]
    },
    {
      "cell_type": "markdown",
      "metadata": {},
      "source": [
        "Option 2:"
      ]
    },
    {
      "cell_type": "code",
      "metadata": {},
      "source": [
        "import statistics as st\n",
        "m = st.mean([1,2,3,4,5])\n",
        "m"
      ]
    },
    {
      "cell_type": "markdown",
      "metadata": {},
      "source": [
        "All functions from the $\\textit{statistics}$ package are imported and can be called with the prefix $\\texttt{st.}$."
      ]
    },
    {
      "cell_type": "markdown",
      "metadata": {},
      "source": [
        "Option 3:"
      ]
    },
    {
      "cell_type": "code",
      "metadata": {},
      "source": [
        "from statistics import *\n",
        "m = mean([1,2,3,4,5])\n",
        "m"
      ]
    },
    {
      "cell_type": "markdown",
      "metadata": {},
      "source": [
        "All functions from the $\\textit{statistics}$ package are imported and can be called directly without a prefix."
      ]
    },
    {
      "cell_type": "markdown",
      "metadata": {},
      "source": [
        "Option 4:"
      ]
    },
    {
      "cell_type": "code",
      "metadata": {},
      "source": [
        "from statistics import mean\n",
        "m = mean([1,2,3,4,5])\n",
        "m"
      ]
    },
    {
      "cell_type": "markdown",
      "metadata": {},
      "source": [
        "Just the $\\texttt{mean}$ function is imported from the $\\textit{statistics}$ package and can be called directly without a prefix."
      ]
    },
    {
      "cell_type": "markdown",
      "metadata": {},
      "source": [
        "**Note:** Remember that the last two options may save you some typing, but using these options makes your code poorly readable as it is hard to track which packages functions come from (especially if you have longer code that includes the use of several packages)."
      ]
    },
    {
      "cell_type": "markdown",
      "metadata": {},
      "source": [
        "## Important packages\n",
        "\n",
        "Below you will find some examples of important packages and functions included in those packages."
      ]
    },
    {
      "cell_type": "markdown",
      "metadata": {},
      "source": [
        "### Packages math and numpy provide access to mathematical functions\n",
        "| Function     | Description| Example        |\n",
        "|:---------    |:-----------|:-----------------------------------------------------------|\n",
        "| math.sqrt(x) | square root of $x$ | math.sqrt(4) = 2.0          |\n",
        "| numpy.cbrt(x)  | cube root of $x$   | np.cbrt(27) = 3         |\n",
        "| math.hypot(x,y)| hypotenuse ($\\sqrt{x^2+y^2}$) of right-angled triangle with other sides of length $x$ and $y$ | x = 3; y = 4; math.hypot(x, y) = 5      |\n",
        "| math.exp(x)    | natural exponential function at $x$     | math.exp(1) = |\n",
        "| math.expm1(x)  | accurate $e^{x}-1$ for $x$ near zero    | math.expm1(1) =          |\n",
        "| math.ldexp(x,n)| $x \\times 2^n$ computed efficiently for integer values of $n$ | ldexp(5.0, 2) = 20.0         |\n",
        "| math.log(x)    | natural logarithm of $x$     | math.log(4) = 1.3862943611198906   |\n",
        "| math.log(x,b)  | base b logarithm of $x$      | math.log(8,4) = 1.5     |\n",
        "| math.log2(x)   | base 2 logarithm of $x$      | math.log2(4) = 2.0      |\n",
        "| math.log10(x)  | base 10 logarithm of $x$     | math.log10(4) = 0.6020599913279624 |\n",
        "| numpy.log1p(x) | accurate log$(1+x)$ for $x$ near zero     | numpy.log1p(4) =         |\n",
        "| math.frexp(x)  | mantissa and exponent of $x$ | math.frexp(4) = (0.5,3) |"
      ]
    },
    {
      "cell_type": "markdown",
      "metadata": {},
      "source": [
        "\n",
        "### Functions related to rounding values:\n",
        "| Function              | Description                      | Example                          |\n",
        "|:----------------------|:---------------------------------|:---------------------------------|\n",
        "|         round(x)      | round $x$ to the nearest integer |         round(1.7) = 2           |\n",
        "|         round(x, n)   | round $x$ to the nths digit      |         round(math.pi, 3)=3.142  |\n",
        "|         math.floor(x) | round $x$ towards -Inf           |         math.floor(1.7) = 1      |\n",
        "|         math.ceil(x)  | round $x$ towards +Inf           |         math.ceil(1.7) = 2       |\n",
        "|         math.trunc(x) | round $x$ towards zero           |         math.trunc(1.7) = 1      |\n"
      ]
    },
    {
      "cell_type": "code",
      "metadata": {},
      "source": []
    }
  ],
  "metadata": {
    "kernelspec": {
      "display_name": ".venv",
      "language": "python",
      "name": "python3"
    },
    "language_info": {
      "codemirror_mode": {
        "name": "ipython",
        "version": 3
      },
      "file_extension": ".py",
      "mimetype": "text/x-python",
      "name": "python",
      "nbconvert_exporter": "python",
      "pygments_lexer": "ipython3",
      "version": "3.12.3"
    }
  },
  "nbformat": 4,
  "nbformat_minor": 2
}

{
  "cells": [
    {
      "cell_type": "markdown",
      "metadata": {},
      "source": [
        "# Leave-one-out cross validation and k-Fold cross validation"
      ]
    },
    {
      "cell_type": "markdown",
      "metadata": {},
      "source": [
        "Import all the packages and functions needed. Because the statsmodels api does not have direct support for cross-validations i.e. LOOCV or K-fold we have to use the sklearn cross_val class instead."
      ]
    },
    {
      "cell_type": "code",
      "metadata": {},
      "source": [
        "import numpy as np\n",
        "import pandas as pd\n",
        "import scipy\n",
        "import sklearn\n",
        "\n",
        "from sklearn.preprocessing import PolynomialFeatures\n",
        "from sklearn.linear_model import LinearRegression\n",
        "from sklearn.model_selection import cross_validate\n",
        "from sklearn.metrics import mean_squared_error\n",
        "from matplotlib import pyplot as plt\n",
        "\n",
        "%matplotlib inline\n",
        "plt.style.use('ggplot') # emulate R's pretty plotting\n",
        "\n",
        "# print numpy arrays with precision 4\n",
        "np.set_printoptions(precision=4)"
      ]
    },
    {
      "cell_type": "markdown",
      "metadata": {},
      "source": [
        "Import the data from the file Auto.csv and remove all columns that are not complete"
      ]
    },
    {
      "cell_type": "code",
      "metadata": {},
      "source": [
        "auto = pd.read_csv('./Data/Auto.csv',na_values='?')\n",
        "auto = auto.dropna()"
      ]
    },
    {
      "cell_type": "markdown",
      "metadata": {},
      "source": [
        "We want to predict the mpg from the horsepower in the auto dataframe. In the simple linear regression task we already saw, that the linear fit may not be the best choice. "
      ]
    },
    {
      "cell_type": "markdown",
      "metadata": {},
      "source": [
        "a) Use the LOOCV to compare all polynomial models with degree up to 5. Compute and visualize the respective MSEs."
      ]
    },
    {
      "cell_type": "code",
      "metadata": {},
      "source": [
        "# LOOCV for polynomial models up to degree 5\n",
        "\n",
        "degrees = [1, 2, 3, 4, 5]\n",
        "loocv_mse = []\n",
        "\n",
        "X = auto.horsepower.values\n",
        "X = X[:,np.newaxis]  # reshape to 2D array for sklearn\n",
        "y = auto.mpg.values\n",
        "\n",
        "for d in degrees:\n",
        "    poly = PolynomialFeatures(degree=d, include_bias=False)\n",
        "    X_poly = poly.fit_transform(X)\n",
        "    model = LinearRegression()\n",
        "    # LOOCV: LeaveOneOut splits\n",
        "    scores = cross_validate(\n",
        "        model, X_poly, y,\n",
        "        cv=auto.shape[0],  # LOOCV: n_samples folds\n",
        "        scoring='neg_mean_squared_error',\n",
        "        return_train_score=False\n",
        "    )\n",
        "    mse = -scores['test_score'].mean()\n",
        "    loocv_mse.append(mse)\n",
        "# print MSEs\n",
        "print(\"\\n LOOCV Mean Squared Errors for Polynomial Degrees:\", loocv_mse)\n",
        "\n",
        "\n",
        "# Plot LOOCV MSEs\n",
        "plt.figure(figsize=(6,4))\n",
        "plt.plot(degrees, loocv_mse, linestyle = '-.', marker='o', color='k')\n",
        "plt.xlabel('Polynomial Degree')\n",
        "plt.ylabel('LOOCV Mean Squared Error')\n",
        "plt.title('LOOCV MSE for Polynomial Regression')\n",
        "plt.show()"
      ]
    },
    {
      "cell_type": "markdown",
      "metadata": {},
      "source": [
        "b) Use the $k$-Fold CV with $k=10$ to compare all polynomial models with degree up to 5. Compute and visualize the respective MSEs. (Remember, that you can use the code of task a).)"
      ]
    },
    {
      "cell_type": "code",
      "metadata": {},
      "source": [
        "# 10-Fold CV for polynomial models up to degree 5\n",
        "\n",
        "kfold_mse = []\n",
        "\n",
        "for d in degrees:\n",
        "    poly = PolynomialFeatures(degree=d, include_bias=False)\n",
        "    X_poly = poly.fit_transform(X)\n",
        "    model = LinearRegression()\n",
        "    scores = cross_validate(\n",
        "        model, X_poly, y,\n",
        "        cv=10, # 10-Fold CV\n",
        "        scoring='neg_mean_squared_error',\n",
        "        return_train_score=False\n",
        "    )\n",
        "    mse = -scores['test_score'].mean()\n",
        "    kfold_mse.append(mse)\n",
        "\n",
        "# Plot 10-Fold CV MSEs\n",
        "plt.figure(figsize=(6,4))\n",
        "plt.plot(degrees, kfold_mse, linestyle='-.', marker='o', color='blue')\n",
        "plt.xlabel('Polynomial Degree')\n",
        "plt.ylabel('10-Fold CV Mean Squared Error')\n",
        "plt.title('10-Fold CV MSE for Polynomial Regression')\n",
        "plt.show()"
      ]
    }
  ],
  "metadata": {
    "kernelspec": {
      "display_name": ".venv",
      "language": "python",
      "name": "python3"
    },
    "language_info": {
      "codemirror_mode": {
        "name": "ipython",
        "version": 3
      },
      "file_extension": ".py",
      "mimetype": "text/x-python",
      "name": "python",
      "nbconvert_exporter": "python",
      "pygments_lexer": "ipython3",
      "version": "3.12.3"
    }
  },
  "nbformat": 4,
  "nbformat_minor": 1
}

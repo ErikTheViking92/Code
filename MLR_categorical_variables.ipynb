{
  "cells": [
    {
      "cell_type": "markdown",
      "metadata": {},
      "source": [
        "# Multiple linear regression with categorical variables\n",
        "\n",
        "This exercise is useful to see:\n",
        "\n",
        "- an alternative way to perform multiple linear regression\n",
        "- the use of categorical variables\n",
        "- model fit measures"
      ]
    },
    {
      "cell_type": "markdown",
      "metadata": {},
      "source": [
        "Import all the packages that we need."
      ]
    },
    {
      "cell_type": "code",
      "metadata": {},
      "source": [
        "import statsmodels.formula.api as smf\n",
        "import numpy as np\n",
        "import pandas as pd\n",
        "\n",
        "from matplotlib import pyplot as plt\n",
        "from statsmodels.stats.outliers_influence import OLSInfluence\n",
        "\n",
        "%matplotlib inline\n",
        "plt.style.use('ggplot') # emulate pretty r-style plots"
      ]
    },
    {
      "cell_type": "markdown",
      "metadata": {},
      "source": [
        "Read the data from Carseats.csv."
      ]
    },
    {
      "cell_type": "code",
      "metadata": {},
      "source": [
        "carseats_df = pd.read_csv('Data/Carseats.csv', index_col=0)\n",
        "carseats_df.head()"
      ]
    },
    {
      "cell_type": "markdown",
      "metadata": {},
      "source": [
        "### a) Fit a multiple regression model to predict 'Sales' using 'Population', 'Urban', and 'US' as predictors"
      ]
    },
    {
      "cell_type": "code",
      "metadata": {},
      "source": [
        "model = smf.ols('Sales ~ Population + Urban + US', data=carseats_df)\n",
        "estimate = model.fit()\n",
        "print(estimate.summary())"
      ]
    },
    {
      "cell_type": "markdown",
      "metadata": {},
      "source": [
        "### b) Provide an interpretation of each coefficient in the model."
      ]
    },
    {
      "cell_type": "markdown",
      "metadata": {},
      "source": [
        "The model can be represented as follows: $Sales = \\beta_0 + \\beta_{urban} * Urban + \\beta_{US} * US + \\beta_{Population} * Population$, where $Urban \\in \\{0,1\\}$ and $US \\in \\{0,1\\}$\n",
        "\n",
        "Urban:  \n",
        "Slope of the urban variable represents the added sales of car sales in urban locations. Negative coefficient -> urban sales declining. \n",
        "High p-value -> Not significant/We can't reject the nullhypothesis $(\\beta_{Urban} = 0)$. -> drop it out of the model\n",
        "\n",
        "US:  \n",
        "Slope of the US variable represents the increased sales at US locations vs. non-US locations. Positive coefficient -> US sales increasing.\n",
        "Low p-value -> significant -> $\\beta_{US} \\neq 0$\n",
        "\n",
        "Population:  \n",
        "Slope of the Population variable represents the increased sales in more densely populated areas. Positive coefficient -> sales in more populated areas increasing. High p-value -> Not significant/We can't reject the nullhypothesis $(\\beta_{Population} = 0)$. -> drop it out of the model"
      ]
    },
    {
      "cell_type": "markdown",
      "metadata": {},
      "source": [
        "### c) On the basis of your response to the previous question, fit a smaller model that only uses the predictors for which there is evidence of association with the outcome."
      ]
    },
    {
      "cell_type": "code",
      "metadata": {},
      "source": [
        "reduced_model = smf.ols('Sales ~ US', data=carseats_df)\n",
        "reduced_estimate = model.fit()\n",
        "print(reduced_estimate.summary())"
      ]
    },
    {
      "cell_type": "markdown",
      "metadata": {},
      "source": [
        "### d) How well do the models fit the data? Produce the diagnostic plots of the reduced model."
      ]
    },
    {
      "cell_type": "code",
      "metadata": {},
      "source": [
        "# Obtain the residuals, studentized residuals and the leverages for the reduced model\n",
        "fitted_values = estimate.fittedvalues\n",
        "residuals = estimate.resid.values\n",
        "studentized_residuals = OLSInfluence(estimate).resid_studentized_internal\n",
        "leverages = OLSInfluence(estimate).influence\n",
        "\n",
        "# Plot\n",
        "fig, (ax1, ax2, ax3) = plt.subplots(1,3,figsize=(16,4))\n",
        "# Residuals\n",
        "ax1.scatter(fitted_values, residuals, facecolor='none', edgecolor='b')\n",
        "ax1.set_xlabel('fitted values')\n",
        "ax1.set_ylabel('residuals')\n",
        "#Studentized Residuals\n",
        "ax2.scatter(fitted_values, studentized_residuals, facecolor='none', edgecolor='b')\n",
        "ax2.set_xlabel('fitted values')\n",
        "ax2.set_ylabel('studentized residuals')\n",
        "# Leverages\n",
        "ax3.scatter(leverages, studentized_residuals, facecolor='none', edgecolor='b')\n",
        "ax3.set_xlabel('leverages')\n",
        "ax3.set_ylabel('studentized_residuals')"
      ]
    }
  ],
  "metadata": {
    "kernelspec": {
      "display_name": ".venv",
      "language": "python",
      "name": "python3"
    },
    "language_info": {
      "codemirror_mode": {
        "name": "ipython",
        "version": 3
      },
      "file_extension": ".py",
      "mimetype": "text/x-python",
      "name": "python",
      "nbconvert_exporter": "python",
      "pygments_lexer": "ipython3",
      "version": "3.12.3"
    }
  },
  "nbformat": 4,
  "nbformat_minor": 4
}

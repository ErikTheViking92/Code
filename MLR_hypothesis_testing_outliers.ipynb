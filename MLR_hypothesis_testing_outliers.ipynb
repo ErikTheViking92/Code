{
  "cells": [
    {
      "cell_type": "markdown",
      "metadata": {},
      "source": [
        "# Multiple linear regression - hypothesis testing, outliers, high-leverage points\n",
        "\n",
        "This exercise is useful to see:\n",
        "\n",
        "- generation of a random dataset\n",
        "- collinearity issues\n",
        "- high leverage and outlier points"
      ]
    },
    {
      "cell_type": "markdown",
      "metadata": {},
      "source": [
        "Import all the packages that we need."
      ]
    },
    {
      "cell_type": "code",
      "metadata": {},
      "source": [
        "import statsmodels.api as sm\n",
        "import numpy as np\n",
        "import pandas as pd\n",
        "\n",
        "from matplotlib import pyplot as plt\n",
        "from pandas.plotting import scatter_matrix \n",
        "from statsmodels.stats.outliers_influence import OLSInfluence\n",
        "\n",
        "%matplotlib inline\n",
        "plt.style.use('ggplot') # emulate pretty r-style plots"
      ]
    },
    {
      "cell_type": "markdown",
      "metadata": {},
      "source": [
        "a) Consider the following model:\n",
        "$𝑦=2+2𝑥_1+0.3𝑥_2+\\epsilon_1$,\n",
        "and generate a population as follows:\n",
        "$𝑥_1∼𝑈𝑛𝑖(0,1)$  and  $𝑥_2=0.5𝑥_1+\\frac{\\epsilon_2}{10}$,  where  $\\epsilon_1∼𝑁(0,1)$ and $\\epsilon_2∼𝑁(0,1)$. Here $[𝛽_0,𝛽_1,𝛽_2]=[2,2,0.3]$.\n",
        "(Use a random seed of 0 for the randomly created values)"
      ]
    },
    {
      "cell_type": "code",
      "metadata": {},
      "source": [
        "np.random.seed(0)\n",
        "x1 = np.random.random(100)\n",
        "epsilon1 = np.random.randn(100)\n",
        "epsilon2 = np.random.randn(100)\n",
        "x2 = 0.5 * x1 + epsilon1/10\n",
        "y = (2 + 2*x1 + 0.3*x2 + epsilon2)"
      ]
    },
    {
      "cell_type": "markdown",
      "metadata": {},
      "source": [
        "b) What is the correlation between $x_1$ and $x_2$? Create a scatterplot displaying the relationship between the variables."
      ]
    },
    {
      "cell_type": "code",
      "metadata": {},
      "source": [
        "correlation = np.corrcoef(x1,x2)\n",
        "print(correlation)"
      ]
    },
    {
      "cell_type": "code",
      "metadata": {},
      "source": [
        "df = pd.DataFrame(np.column_stack((y,x1,x2)), columns=['y', 'x1', 'x2'])\n",
        "df.head()"
      ]
    },
    {
      "cell_type": "code",
      "metadata": {},
      "source": [
        "scatter_matrix(df, alpha=1, figsize=(8,8), diagonal = 'hist')"
      ]
    },
    {
      "cell_type": "markdown",
      "metadata": {},
      "source": [
        "c)  \n",
        "- Fit a least squares regression to predict y using x1 and x2. Describe the results obtained. \n",
        "- What are $\\hat{\\beta}_0, \\hat{\\beta}_1$, and $\\hat{\\beta}_2$? How do these relate to the true values?   \n",
        "- Can you reject the null hypothesis $H_0: \\beta_1=0$? How about the null hypothesis $H_0:\\beta_2=0$?"
      ]
    },
    {
      "cell_type": "code",
      "metadata": {},
      "source": [
        "X = sm.add_constant(df[['x1', 'x2']])\n",
        "y = df.y\n",
        "\n",
        "model = sm.OLS(y,X)\n",
        "estimate = model.fit()\n",
        "\n",
        "print(estimate.summary())"
      ]
    },
    {
      "cell_type": "markdown",
      "metadata": {},
      "source": [
        "d)\n",
        "- Fit a least squares regression to predict y using only $x_1$. Comment on your results. Can you reject the null hypothesis $H_0:\\beta_1=0$?\n",
        "- Fit a least squares regression to predict y using only $x_2$. Comment on your results. Can you reject the null hypothesis $H_0:\\beta_2=0$?\n",
        "- Do the previous results contraddict each other?"
      ]
    },
    {
      "cell_type": "code",
      "metadata": {},
      "source": [
        "X = sm.add_constant(df.x1)\n",
        "model_x1 = sm.OLS(y,X)\n",
        "\n",
        "estimate_x1 = model_x1.fit()\n",
        "print(estimate_x1.summary())"
      ]
    },
    {
      "cell_type": "code",
      "metadata": {},
      "source": [
        "X = sm.add_constant(df.x2)\n",
        "model_x2 = sm.OLS(y,X)\n",
        "\n",
        "estimate_x2 = model_x2.fit()\n",
        "print(estimate_x2.summary())"
      ]
    },
    {
      "cell_type": "markdown",
      "metadata": {},
      "source": [
        "e) Now assume that we obtain an additional observation, which is unfortunately mismeasured. ($x_1=0.1, x_2=0.8, y=6$). \n",
        "Re-fit the linear model from task c) using this new data. \n",
        "- What effect does this new observation have on the previous model containing both variables? \n",
        "- In each model, is this observation an outlier? A high-leverage point? Both? Explain your answer."
      ]
    },
    {
      "cell_type": "code",
      "metadata": {},
      "source": [
        "df.loc[len(df)] = [6, 0.1, 0.8]"
      ]
    },
    {
      "cell_type": "code",
      "metadata": {},
      "source": [
        "X = sm.add_constant(df[['x1', 'x2']])\n",
        "\n",
        "model = sm.OLS(df.y, X)\n",
        "estimate = model.fit()\n",
        "\n",
        "print(estimate.summary())\n",
        "\n",
        "# Obtain the residuals, studentized residuals and the leverages\n",
        "fitted_values = estimate.fittedvalues\n",
        "residuals = estimate.resid.values\n",
        "studentized_residuals = OLSInfluence(estimate).resid_studentized_internal\n",
        "leverages = OLSInfluence(estimate).influence\n",
        "\n",
        "# Plot\n",
        "fig, (ax1, ax2) = plt.subplots(1,2,figsize=(16,4))\n",
        "\n",
        "# Studentized Residuals\n",
        "ax1.scatter(fitted_values[:-1], studentized_residuals[:-1], facecolors='none', edgecolors='b')\n",
        "# Plot the possible Outlier in red\n",
        "ax1.scatter(fitted_values[len(fitted_values)-1], studentized_residuals[len(fitted_values)-1], facecolors='none', edgecolors='r')\n",
        "ax1.set_xlabel('fitted values')\n",
        "ax1.set_ylabel('studentized residuals')\n",
        "\n",
        "\n",
        "# Leverages\n",
        "ax2.scatter(leverages[:-1], studentized_residuals[:-1], facecolors='none', edgecolors='b')\n",
        "# plot the possible high leverager in red\n",
        "ax2.scatter(leverages[len(leverages)-1], studentized_residuals[len(leverages)-1], facecolors='none', edgecolors='r')\n",
        "ax2.set_xlabel('Leverages')\n",
        "ax2.set_ylabel('studentized residuals')"
      ]
    }
  ],
  "metadata": {
    "kernelspec": {
      "display_name": ".venv",
      "language": "python",
      "name": "python3"
    },
    "language_info": {
      "codemirror_mode": {
        "name": "ipython",
        "version": 3
      },
      "file_extension": ".py",
      "mimetype": "text/x-python",
      "name": "python",
      "nbconvert_exporter": "python",
      "pygments_lexer": "ipython3",
      "version": "3.12.3"
    }
  },
  "nbformat": 4,
  "nbformat_minor": 4
}

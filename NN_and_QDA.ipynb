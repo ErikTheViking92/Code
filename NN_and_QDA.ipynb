{
  "cells": [
    {
      "cell_type": "markdown",
      "metadata": {},
      "source": [
        "# Nearest Neighbor and Qudratic discriminant analysis\n",
        "\n",
        "In this exercise we are going to see a comparison of the Nearest Neighbor and the QDA classifier on three datasets aleardy included in the sklearn package."
      ]
    },
    {
      "cell_type": "markdown",
      "metadata": {},
      "source": [
        "Import all packages that we need."
      ]
    },
    {
      "cell_type": "code",
      "metadata": {},
      "source": [
        "import numpy as np\n",
        "import matplotlib.pyplot as plt\n",
        "from matplotlib.colors import ListedColormap\n",
        "\n",
        "from sklearn.model_selection import train_test_split\n",
        "from sklearn.preprocessing import StandardScaler\n",
        "from sklearn.datasets import make_moons, make_circles, make_classification\n",
        "\n",
        "from sklearn.neighbors import KNeighborsClassifier\n",
        "from sklearn.discriminant_analysis import QuadraticDiscriminantAnalysis"
      ]
    },
    {
      "cell_type": "markdown",
      "metadata": {},
      "source": [
        "a) Create the data sets"
      ]
    },
    {
      "cell_type": "code",
      "metadata": {},
      "source": [
        "X, y = make_classification(n_features=2, n_redundant=0, n_informative=2, random_state=1, n_clusters_per_class=1)\n",
        "rng = np.random.RandomState(2) # randomize testset more for a more challenging distribution (to easily separable even with LDA otherwise)\n",
        "X += 2 * rng.uniform(size=X.shape)\n",
        "linearly_separable = (X, y)\n",
        "### Create dataset moons ###\n",
        "moons = make_moons(noise=0.3, random_state=0)\n",
        "### Create dataset circles ###\n",
        "circles = make_circles(noise=0.2, factor=0.5, random_state=1)\n",
        "\n",
        "datasets = [moons, circles, linearly_separable]"
      ]
    },
    {
      "cell_type": "markdown",
      "metadata": {},
      "source": [
        "b) Visualize the three datasets"
      ]
    },
    {
      "cell_type": "code",
      "metadata": {},
      "source": [
        "figure = plt.figure(figsize=(27,9))\n",
        "\n",
        "for ds_cnt, ds in enumerate(datasets):\n",
        "    X, y = ds\n",
        "    X = StandardScaler().fit_transform(X)\n",
        "\n",
        "    x1_min, x1_max = X[:,0].min() - 0.5, X[:,0].max() + 0.5\n",
        "    x2_min, x2_max = X[:,1].min() - 0.5, X[:,1].max() + 0.5\n",
        "\n",
        "    cm_bright = ListedColormap(['#FF0000', '#0000FF'])\n",
        "    ax = plt.subplot(1, len(datasets), ds_cnt+1)\n",
        "\n",
        "    if ds_cnt==0:\n",
        "        ax.set_title(\"Moons\")\n",
        "    elif ds_cnt==1:\n",
        "        ax.set_title(\"Circles\")\n",
        "    else:\n",
        "        ax.set_title(\"linearly_separable\")\n",
        "\n",
        "    ax.scatter(X[:,0], X[:,1], c=y, cmap=cm_bright)\n",
        "    ax.set_xlim(x1_min, x1_max)\n",
        "    ax.set_ylim(x2_min, x2_max)\n",
        "    ax.set_xticks(())\n",
        "    ax.set_yticks(())"
      ]
    },
    {
      "cell_type": "markdown",
      "metadata": {},
      "source": [
        "c) Define the classifiers."
      ]
    },
    {
      "cell_type": "code",
      "metadata": {},
      "source": [
        "names = [\"Nearest Neighbor\", \"QDA\"]\n",
        "classifiers = [KNeighborsClassifier(3), QuadraticDiscriminantAnalysis()]"
      ]
    },
    {
      "cell_type": "markdown",
      "metadata": {},
      "source": [
        "d) For each dataset do the following:\n",
        "- Scale the data points to unit variance\n",
        "- Split the dataset into test and training set, where the test set contains 40% of the data points\n",
        "- Visualize again the dataset, to distinguish between test and training set, by adding a transparency of 0.6 to the points of the test set\n",
        "- Apply both of the classifiers to the respective training set and plot the results"
      ]
    },
    {
      "cell_type": "code",
      "metadata": {},
      "source": [
        "figure = plt.figure(figsize=(27,27))\n",
        "\n",
        "i = 1\n",
        "\n",
        "for ds_cnt, ds in enumerate(datasets):\n",
        "    X, y = ds\n",
        "    X = StandardScaler().fit_transform(X)\n",
        "\n",
        "    X_train, X_test, y_train, y_test = train_test_split(X, y, test_size=0.4, random_state=1)\n",
        "\n",
        "    x1_min, x1_max = X[:,0].min() - 0.5, X[:,0].max() + 0.5\n",
        "    x2_min, x2_max = X[:,1].min() - 0.5, X[:,1].max() + 0.5\n",
        "\n",
        "    cm_bright = ListedColormap(['#FF0000', '#0000FF'])\n",
        "    ax = plt.subplot(len(datasets), len(classifiers) + 1, i)\n",
        "\n",
        "    if ds_cnt==0:\n",
        "        ax.set_title(\"Moons\")\n",
        "    elif ds_cnt==1:\n",
        "        ax.set_title(\"Circles\")\n",
        "    else:\n",
        "        ax.set_title(\"linearly_separable\")\n",
        "\n",
        "    ax.scatter(X_train[:,0], X_train[:,1], c=y_train, cmap=cm_bright, edgecolor='k')\n",
        "    ax.scatter(X_test[:,0], X_test[:,1], c=y_test, cmap=cm_bright, alpha=0.6, edgecolor='k')\n",
        "    ax.set_xlim(x1_min, x1_max)\n",
        "    ax.set_ylim(x2_min, x2_max)\n",
        "    ax.set_xticks(())\n",
        "    ax.set_yticks(())\n",
        "\n",
        "    i += 1\n",
        "\n",
        "    for name, clf in zip(names, classifiers):\n",
        "        clf.fit(X_train, y_train)\n",
        "        score = clf.score(X_test, y_test)\n",
        "        print(name, ds_cnt, score)\n",
        "\n",
        "        x1_grid, x2_grid = np.meshgrid(np.arange(x1_min, x1_max, 0.02), np.arange(x2_min, x2_max, 0.02))\n",
        "\n",
        "        if hasattr(clf, 'decision_function'):\n",
        "            Z = clf.decision_function(np.c_[x1_grid.ravel(), x2_grid.ravel()])\n",
        "        else:\n",
        "            Z = clf.predict_proba(np.c_[x1_grid.ravel(), x2_grid.ravel()])[:, 1]\n",
        "\n",
        "        ax = plt.subplot(len(datasets), len(classifiers)+1, i)\n",
        "        cm = plt.cm.RdBu \n",
        "        Z = Z.reshape(x1_grid.shape)\n",
        "        ax.contourf(x1_grid, x2_grid, Z, cmap=cm, alpha = 0.8)\n",
        "\n",
        "        ax.scatter(X_train[:,0], X_train[:,1], c=y_train, cmap=cm_bright, edgecolor='k')\n",
        "        ax.scatter(X_test[:,0], X_test[:,1], c=y_test, cmap=cm_bright, alpha=0.6, edgecolor='k')\n",
        "        ax.set_xlim(x1_min, x1_max)\n",
        "        ax.set_ylim(x2_min, x2_max)\n",
        "        ax.set_xticks(())\n",
        "        ax.set_yticks(())\n",
        "\n",
        "        if ds_cnt == 0:\n",
        "            ax.set_title(name)\n",
        "        i += 1\n",
        "plt.tight_layout()"
      ]
    }
  ],
  "metadata": {
    "kernelspec": {
      "display_name": ".venv",
      "language": "python",
      "name": "python3"
    },
    "language_info": {
      "codemirror_mode": {
        "name": "ipython",
        "version": 3
      },
      "file_extension": ".py",
      "mimetype": "text/x-python",
      "name": "python",
      "nbconvert_exporter": "python",
      "pygments_lexer": "ipython3",
      "version": "3.12.3"
    }
  },
  "nbformat": 4,
  "nbformat_minor": 4
}

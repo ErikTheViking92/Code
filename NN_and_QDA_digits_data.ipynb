{
  "cells": [
    {
      "cell_type": "markdown",
      "metadata": {},
      "source": [
        "# Nearest neighbor and QDA on the Digits dataset"
      ]
    },
    {
      "cell_type": "markdown",
      "metadata": {},
      "source": [
        "Import all packages that we need."
      ]
    },
    {
      "cell_type": "code",
      "metadata": {},
      "source": [
        "import matplotlib.pyplot as plt\n",
        "\n",
        "from sklearn import datasets, svm, metrics\n",
        "from sklearn.model_selection import train_test_split\n",
        "from sklearn.neighbors import KNeighborsClassifier\n",
        "from sklearn.discriminant_analysis import QuadraticDiscriminantAnalysis"
      ]
    },
    {
      "cell_type": "markdown",
      "metadata": {},
      "source": [
        "a) Create the digits data set"
      ]
    },
    {
      "cell_type": "code",
      "metadata": {},
      "source": [
        "digits = datasets.load_digits()"
      ]
    },
    {
      "cell_type": "markdown",
      "metadata": {},
      "source": [
        "b) Visualize the first four images of the data set"
      ]
    },
    {
      "cell_type": "code",
      "metadata": {},
      "source": [
        "figure = plt.figure(figsize=(8,4))\n",
        "\n",
        "images_and_labels = list(zip(digits.images, digits.target))\n",
        "\n",
        "i = 1\n",
        "for (image, label) in images_and_labels[:4]:\n",
        "    ax = plt.subplot(1,4,i)\n",
        "    ax.set_axis_off()\n",
        "    ax.imshow(image, cmap=plt.cm.gray_r)\n",
        "    ax.set_title('Training: %i' % label)\n",
        "    i += 1"
      ]
    },
    {
      "cell_type": "markdown",
      "metadata": {},
      "source": [
        "c) Flatten the images to turn the data into a (samples, feature) matrix"
      ]
    },
    {
      "cell_type": "code",
      "metadata": {},
      "source": [
        "n_samples = len(digits.images)\n",
        "data= digits.images.reshape((n_samples, -1))"
      ]
    },
    {
      "cell_type": "markdown",
      "metadata": {},
      "source": [
        "d) Define the classifier"
      ]
    },
    {
      "cell_type": "code",
      "metadata": {},
      "source": [
        "# classifier = KNeighborsClassifier(3) # 3-Neighbors in KNN-classifier\n",
        "classifier = QuadraticDiscriminantAnalysis()"
      ]
    },
    {
      "cell_type": "markdown",
      "metadata": {},
      "source": [
        "e) Split the data set into training and test set"
      ]
    },
    {
      "cell_type": "code",
      "metadata": {},
      "source": [
        "X_train, X_test, y_train, y_test = train_test_split(data, digits.target, test_size=0.5, shuffle=False)"
      ]
    },
    {
      "cell_type": "markdown",
      "metadata": {},
      "source": [
        "f) Train the classifier on the training set"
      ]
    },
    {
      "cell_type": "code",
      "metadata": {},
      "source": [
        "classifier.fit(X_train, y_train)"
      ]
    },
    {
      "cell_type": "markdown",
      "metadata": {},
      "source": [
        "g) Predict the values of the digits in the images of the test set"
      ]
    },
    {
      "cell_type": "code",
      "metadata": {},
      "source": [
        "predicted = classifier.predict(X_test)"
      ]
    },
    {
      "cell_type": "markdown",
      "metadata": {},
      "source": [
        "h) Plot the results for the first four images"
      ]
    },
    {
      "cell_type": "code",
      "metadata": {},
      "source": [
        "figure = plt.figure(figsize=(8,4))\n",
        "\n",
        "i = 1\n",
        "images_and_predictions = list(zip(digits.images[n_samples // 2:], predicted))\n",
        "\n",
        "for (image, prediction) in images_and_predictions[:4]:\n",
        "    ax = plt.subplot(1,4,i)\n",
        "    ax.set_axis_off()\n",
        "    ax.imshow(image, cmap = plt.cm.gray_r)\n",
        "    ax.set_title('Prediction: %i' % prediction)\n",
        "    i += 1"
      ]
    },
    {
      "cell_type": "markdown",
      "metadata": {},
      "source": [
        "i) Plot the classification report"
      ]
    },
    {
      "cell_type": "code",
      "metadata": {},
      "source": [
        "print(\"Classification report for classifier %s: \\n %s \\n\" % (classifier, metrics.classification_report(y_test, predicted)))"
      ]
    },
    {
      "cell_type": "markdown",
      "metadata": {},
      "source": [
        "j) Print the confusion matrix"
      ]
    },
    {
      "cell_type": "code",
      "metadata": {},
      "source": [
        "from sklearn.metrics import ConfusionMatrixDisplay\n",
        "\n",
        "\n",
        "disp = ConfusionMatrixDisplay.from_estimator(classifier, X_test, y_test)"
      ]
    }
  ],
  "metadata": {
    "kernelspec": {
      "display_name": ".venv",
      "language": "python",
      "name": "python3"
    },
    "language_info": {
      "codemirror_mode": {
        "name": "ipython",
        "version": 3
      },
      "file_extension": ".py",
      "mimetype": "text/x-python",
      "name": "python",
      "nbconvert_exporter": "python",
      "pygments_lexer": "ipython3",
      "version": "3.12.3"
    }
  },
  "nbformat": 4,
  "nbformat_minor": 4
}

{
  "cells": [
    {
      "cell_type": "markdown",
      "metadata": {},
      "source": [
        "# Comparison of classifiers"
      ]
    },
    {
      "cell_type": "markdown",
      "metadata": {},
      "source": [
        "Import all the packages that we need"
      ]
    },
    {
      "cell_type": "code",
      "metadata": {},
      "source": [
        "import numpy as np\n",
        "import pandas as pd\n",
        "import statsmodels.api as sm\n",
        "import statsmodels.formula.api as smf\n",
        "\n",
        "from matplotlib import pyplot as plt\n",
        "from sklearn.discriminant_analysis import LinearDiscriminantAnalysis as LDA\n",
        "from sklearn.discriminant_analysis import QuadraticDiscriminantAnalysis as QDA\n",
        "from sklearn.neighbors import KNeighborsClassifier\n",
        "from sklearn.preprocessing import scale\n",
        "\n",
        "%matplotlib inline\n",
        "plt.style.use('ggplot') # emulate pretty r-style plots\n",
        "\n",
        "np.set_printoptions(precision=4) #print numpy arrays with precision 4"
      ]
    },
    {
      "cell_type": "markdown",
      "metadata": {},
      "source": [
        "Read the data from Weekly.csv. The data set Weekly contains 1089 weekly returns of a stock index for 21 years, from the beginning of 1990 to the end of 2010. Lags refer to the percentage returns for each of the five previous periods."
      ]
    },
    {
      "cell_type": "code",
      "metadata": {},
      "source": [
        "df = pd.read_csv('./Data/Weekly.csv')\n",
        "print('Weekly dataframe shape =', df.shape)\n",
        "df.head()"
      ]
    },
    {
      "cell_type": "markdown",
      "metadata": {},
      "source": [
        "We are interested in the relationship between each of the predictors (lags and volume) with the market direction. "
      ]
    },
    {
      "cell_type": "markdown",
      "metadata": {},
      "source": [
        "a) Compute the matrix of correlations between the variables and comment on the output and on what to expect from regression models."
      ]
    },
    {
      "cell_type": "code",
      "metadata": {},
      "source": [
        "correlations = df.corr(method='pearson', numeric_only=True)\n",
        "print(correlations)"
      ]
    },
    {
      "cell_type": "markdown",
      "metadata": {},
      "source": [
        "b) Plot the correlation between year and volume, today's return and lag1 and today's return and lag2."
      ]
    },
    {
      "cell_type": "code",
      "metadata": {},
      "source": [
        "fig, (ax1, ax2, ax3) = plt.subplots(1, 3, figsize=(18,4))\n",
        "ax1.scatter(df.Year.values, df.Volume, facecolor = 'none', edgecolor = 'b')\n",
        "ax1.set_xlabel('Year')\n",
        "ax1.set_ylabel('Volume')\n",
        "\n",
        "ax2.scatter(df.Lag1.values, df.Today, facecolor = 'none', edgecolor = 'b')\n",
        "ax2.set_xlabel('Lag1')\n",
        "ax2.set_ylabel('Today\\'s return')\n",
        "\n",
        "ax3.scatter(df.Lag2.values, df.Today, facecolor = 'none', edgecolor = 'b')\n",
        "ax3.set_xlabel('Lag2')\n",
        "ax3.set_ylabel('Today\\'s return')"
      ]
    },
    {
      "cell_type": "markdown",
      "metadata": {},
      "source": [
        "c) Perform a logistic regression with the market direction as response and all the lags and volume as predictors. To do this you need to convert the direction into a binary value ('up'=1 and 'down'=0). Comment on the output."
      ]
    },
    {
      "cell_type": "code",
      "metadata": {},
      "source": [
        "X = sm.add_constant(df[df.columns[1:7]])\n",
        "y = np.array([1 if direction=='Up' else 0 for direction in df.Direction.values])\n",
        "\n",
        "logit = sm.Logit(y,X)\n",
        "results = logit.fit()\n",
        "print(results.summary())"
      ]
    },
    {
      "cell_type": "markdown",
      "metadata": {},
      "source": [
        "d) Predict the results for the full data set and compute the confusion matrix. Comment on the confusion matrix."
      ]
    },
    {
      "cell_type": "code",
      "metadata": {
        "scrolled": true
      },
      "source": [
        "y_predicted = results.predict(X)\n",
        "y_predicted = np.array(y_predicted > 0.5, dtype=float)\n",
        "\n",
        "table = np.histogram2d(y_predicted, y, bins=2)[0]\n",
        "print(table)\n",
        "\n",
        "print('Confusion matrix')\n",
        "print(pd.DataFrame(table, ['Down', 'Up'], ['Down', 'Up']))\n",
        "print('\\n')\n",
        "print('Error rate=', 1-(table[0,0]+table[1,1])/np.sum(table))"
      ]
    },
    {
      "cell_type": "markdown",
      "metadata": {},
      "source": [
        "e) Split the data set into a training and a test set. The training data will be the data drom the years 1990 through 2008 and the testing data will be from 2009 through 2010. Refit the logistic regression from task c) using 'Lag2' as the only predictor. Predict the results for the test set and build the confusion matrix. Comment on the confusion matrix."
      ]
    },
    {
      "cell_type": "code",
      "metadata": {},
      "source": [
        "# Training-Set:\n",
        "X_train = sm.add_constant(df[df.Year <= 2008].Lag2)\n",
        "response_train = df[df.Year <= 2008].Direction\n",
        "y_train = np.array([1 if el=='Up' else 0 for el in response_train])\n",
        "# Test-Set:\n",
        "X_test = sm.add_constant(df[df.Year > 2008].Lag2)\n",
        "response_test = df[df.Year > 2008].Direction\n",
        "y_test = np.array([1 if el=='Up' else 0 for el in response_test])\n",
        "\n",
        "logit = sm.Logit(y_train, X_train)\n",
        "results = logit.fit()\n",
        "print(results.summary())\n",
        "print('\\n')\n",
        "\n",
        "y_predicted = results.predict(X_test)\n",
        "y_predicted = np.array(y_predicted > 0.5, dtype=float)\n",
        "\n",
        "table = np.histogram2d(y_predicted, y_test, bins=2)[0]\n",
        "print(table)\n",
        "\n",
        "print('Confusion matrix')\n",
        "print(pd.DataFrame(table, ['Down', 'Up'], ['Down', 'Up']))\n",
        "print('\\n')\n",
        "print('Error rate=', 1-(table[0,0]+table[1,1])/np.sum(table))"
      ]
    },
    {
      "cell_type": "markdown",
      "metadata": {},
      "source": [
        "f) Predict the market direction using the linear discriminant analysis, again only with 'lag2' as predictor and the same training and test set as in task e). Print the priors P('Up') and P('Down') and the class means $\\mu_{Up}$ and $\\mu_{Down}$ and the variances (remember the variance is assumed to be the same for all classes in LDA). Predict the results for the test set and build the confusion matrix. Comment on the confusion matrix."
      ]
    },
    {
      "cell_type": "code",
      "metadata": {},
      "source": [
        "# Create classifier\n",
        "clf = LDA(solver = 'lsqr', store_covariance=True)\n",
        "\n",
        "X_train = df[df.Year <= 2008].Lag2.values\n",
        "X_train = X_train.reshape((len(X_train), 1))\n",
        "\n",
        "X_test = df[df.Year > 2008].Lag2.values\n",
        "X_test = X_test.reshape((len(X_test), 1))\n",
        "\n",
        "clf.fit(X_train, y_train)\n",
        "print('Priors = ', clf.priors_)\n",
        "print('Class means = ', clf.means_[0], clf.means_[1])\n",
        "print('Variance = ', clf.covariance_)\n",
        "print('\\n')\n",
        "\n",
        "y_predicted = clf.predict(X_test)\n",
        "y_predicted = np.array(y_predicted > 0.5, dtype=float)\n",
        "\n",
        "table = np.histogram2d(y_predicted, y_test, bins=2)[0]\n",
        "print(table)\n",
        "\n",
        "print('Confusion matrix')\n",
        "print(pd.DataFrame(table, ['Down', 'Up'], ['Down', 'Up']))\n",
        "print('\\n')\n",
        "print('Error rate=', 1-(table[0,0]+table[1,1])/np.sum(table))"
      ]
    },
    {
      "cell_type": "markdown",
      "metadata": {},
      "source": [
        "g) Predict the market direction using the quadratic discriminant analysis, again only with 'lag2' as predictor and the same training and test set as in task e). Print the priors P('Up') and P('Down') and the class means $\\mu_{Up}$ and $\\mu_{Down}$ and the variances. Predict the results for the test set and build the confusion matrix. Comment on the confusion matrix."
      ]
    },
    {
      "cell_type": "code",
      "metadata": {},
      "source": [
        "clf = QDA(store_covariance=True)\n",
        "\n",
        "clf.fit(X_train, y_train)\n",
        "print('Priors = ', clf.priors_)\n",
        "print('Class means = ', clf.means_[0], clf.means_[1])\n",
        "print('Variance = ', clf.covariance_)\n",
        "print('\\n')\n",
        "\n",
        "y_predicted = clf.predict(X_test)\n",
        "y_predicted = np.array(y_predicted > 0.5, dtype=float)\n",
        "\n",
        "table = np.histogram2d(y_predicted, y_test, bins=2)[0]\n",
        "print(table)\n",
        "\n",
        "print('Confusion matrix')\n",
        "print(pd.DataFrame(table, ['Down', 'Up'], ['Down', 'Up']))\n",
        "print('\\n')\n",
        "print('Error rate=', 1-(table[0,0]+table[1,1])/np.sum(table))"
      ]
    },
    {
      "cell_type": "markdown",
      "metadata": {},
      "source": [
        "h) Predict the market direction using the $k$-nearest neighbor analysis, again only with 'lag2' as predictor and the same training and test set as in task e). Try to experiment with different values for $k$.Predict the results for the test set and build the confusion matrix. Comment on the confusion matrix."
      ]
    },
    {
      "cell_type": "code",
      "metadata": {},
      "source": [
        "clf = KNeighborsClassifier(n_neighbors=20)\n",
        "clf.fit(X_train, y_train)\n",
        "\n",
        "y_predicted = clf.predict(X_test)\n",
        "\n",
        "table = np.histogram2d(y_predicted, y_test, bins=2)[0]\n",
        "# print(table)\n",
        "\n",
        "print('Confusion matrix')\n",
        "print(pd.DataFrame(table, ['Down', 'Up'], ['Down', 'Up']))\n",
        "print('\\n')\n",
        "print('Error rate=', 1-(table[0,0]+table[1,1])/np.sum(table))"
      ]
    },
    {
      "cell_type": "markdown",
      "metadata": {},
      "source": [
        "i) Predict the market direction using a logistic regression again, but this time using 'lag1', 'lag2' and 'lag3' as predictors and the same training and test set as in task e). Predict the results for the test set and build the confusion matrix. Comment on the confusion matrix."
      ]
    },
    {
      "cell_type": "code",
      "metadata": {},
      "source": [
        "predictors = df.columns[1:4]\n",
        "X_train = sm.add_constant(df[df.Year <= 2008][predictors])\n",
        "response_train = df[df.Year <= 2008].Direction\n",
        "y_train = np.array([1 if el=='Up' else 0 for el in response_train])\n",
        "\n",
        "X_test = sm.add_constant(df[df.Year > 2008][predictors])\n",
        "response_test = df[df.Year > 2008].Direction\n",
        "y_test = np.array([1 if el=='Up' else 0 for el in response_test])\n",
        "\n",
        "logit = sm.Logit(y_train, X_train)\n",
        "results = logit.fit()\n",
        "print(results.summary())\n",
        "print('\\n')\n",
        "\n",
        "y_predicted = results.predict(X_test)\n",
        "y_predicted = np.array(y_predicted > 0.5, dtype=float)\n",
        "\n",
        "table = np.histogram2d(y_predicted, y_test, bins=2)[0]\n",
        "# print(table)\n",
        "\n",
        "print('Confusion matrix')\n",
        "print(pd.DataFrame(table, ['Down', 'Up'], ['Down', 'Up']))\n",
        "print('\\n')\n",
        "print('Error rate=', 1-(table[0,0]+table[1,1])/np.sum(table))"
      ]
    },
    {
      "cell_type": "markdown",
      "metadata": {},
      "source": [
        "j) Predict the market direction using a logistic regression again, but this time using 'lag1', 'lag2' and the interaction between 'lag1' and 'lag2' as predictors and the same training and test set as in task e). Predict the results for the test set and build the confusion matrix. Comment on the confusion matrix."
      ]
    },
    {
      "cell_type": "code",
      "metadata": {},
      "source": [
        "df['Lag1*Lag2'] = pd.Series(df.Lag1*df.Lag2, index=df.index)\n",
        "\n",
        "predictors = ['Lag1', 'Lag2', 'Lag1*Lag2']\n",
        "X_train = sm.add_constant(df[df.Year <= 2008][predictors])\n",
        "response_train = df[df.Year <= 2008].Direction\n",
        "y_train = np.array([1 if el=='Up' else 0 for el in response_train])\n",
        "\n",
        "X_test = sm.add_constant(df[df.Year > 2008][predictors])\n",
        "response_test = df[df.Year > 2008].Direction\n",
        "y_test = np.array([1 if el=='Up' else 0 for el in response_test])\n",
        "\n",
        "logit = sm.Logit(y_train, X_train)\n",
        "results = logit.fit()\n",
        "print(results.summary())\n",
        "print('\\n')\n",
        "\n",
        "y_predicted = results.predict(X_test)\n",
        "y_predicted = np.array(y_predicted > 0.5, dtype=float)\n",
        "\n",
        "table = np.histogram2d(y_predicted, y_test, bins=2)[0]\n",
        "# print(table)\n",
        "\n",
        "print('Confusion matrix')\n",
        "print(pd.DataFrame(table, ['Down', 'Up'], ['Down', 'Up']))\n",
        "print('\\n')\n",
        "print('Error rate=', 1-(table[0,0]+table[1,1])/np.sum(table))"
      ]
    },
    {
      "cell_type": "markdown",
      "metadata": {},
      "source": [
        "No improvements. Error rate still 42%. Confusion matrix: Lag1 still a bad predictor. Best results obtained from only using Lag2 as a predictor (see Task h))"
      ]
    }
  ],
  "metadata": {
    "kernelspec": {
      "display_name": ".venv",
      "language": "python",
      "name": "python3"
    },
    "language_info": {
      "codemirror_mode": {
        "name": "ipython",
        "version": 3
      },
      "file_extension": ".py",
      "mimetype": "text/x-python",
      "name": "python",
      "nbconvert_exporter": "python",
      "pygments_lexer": "ipython3",
      "version": "3.12.3"
    }
  },
  "nbformat": 4,
  "nbformat_minor": 1
}

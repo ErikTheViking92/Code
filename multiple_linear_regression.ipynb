{
  "cells": [
    {
      "cell_type": "markdown",
      "metadata": {},
      "source": [
        "# Multiple linear regression\n",
        "\n",
        "This exercise is useful to see:\n",
        "- multiple linear regression\n",
        "- scatterplot matrix\n",
        "- correlation matrix\n",
        "- collinearity problem\n",
        "- the residuals, the studentized residuals and the leverage points\n",
        "- interaction effects\n",
        "- non-linear transformations of the predictors"
      ]
    },
    {
      "cell_type": "markdown",
      "metadata": {},
      "source": [
        "Import all the packages that we need."
      ]
    },
    {
      "cell_type": "code",
      "metadata": {},
      "source": [
        "import statsmodels.api as sm\n",
        "import numpy as np\n",
        "import pandas as pd\n",
        "\n",
        "from matplotlib import pyplot as plt\n",
        "from pandas.plotting import scatter_matrix\n",
        "from mpl_toolkits.mplot3d import Axes3D\n",
        "\n",
        "from statsmodels.stats.outliers_influence import OLSInfluence\n",
        "from statsmodels.stats.outliers_influence import variance_inflation_factor"
      ]
    },
    {
      "cell_type": "markdown",
      "metadata": {},
      "source": [
        "Read the data from Auto.csv and remove all rows, that are not complete."
      ]
    },
    {
      "cell_type": "code",
      "metadata": {},
      "source": [
        "auto_df = pd.read_csv('Data/Auto.csv', na_values='?')\n",
        "auto_df = auto_df.dropna()\n",
        "auto_df.head()"
      ]
    },
    {
      "cell_type": "markdown",
      "metadata": {},
      "source": [
        "a) Produce a scatterplot matrix which includes all the variables in the dataset"
      ]
    },
    {
      "cell_type": "code",
      "metadata": {},
      "source": [
        "\n",
        "scatter_matrix(auto_df, alpha=0.5, figsize=(20,20))"
      ]
    },
    {
      "cell_type": "markdown",
      "metadata": {},
      "source": [
        "b) Compute the matrix of correlations between the variables. "
      ]
    },
    {
      "cell_type": "code",
      "metadata": {},
      "source": [
        "corr = auto_df.corr(numeric_only=True)\n",
        "corr.style.background_gradient(cmap='coolwarm')\n"
      ]
    },
    {
      "cell_type": "markdown",
      "metadata": {},
      "source": [
        "c) Perform a multiple linear regression with mpg as the response and all other variables (except 'name') as the predictors. Print the results and comment on outputs."
      ]
    },
    {
      "cell_type": "code",
      "metadata": {},
      "source": [
        "X = sm.add_constant(auto_df.iloc[:,1:-1]) # add all values except mpg and names\n",
        "y = auto_df.mpg\n",
        "\n",
        "model = sm.OLS(y,X)\n",
        "estimate = model.fit()\n",
        "print(estimate.summary())"
      ]
    },
    {
      "cell_type": "markdown",
      "metadata": {},
      "source": [
        "d) Compute the variance inflation factors and comment the output."
      ]
    },
    {
      "cell_type": "code",
      "metadata": {},
      "source": [
        "VIFs = [(predictor, variance_inflation_factor(X.values, _)) for _, predictor in enumerate(list(X))]\n",
        "for tup in VIFs:\n",
        "    print('{:20}'.format(tup[0]), '{:.3f}'.format(tup[1]))"
      ]
    },
    {
      "cell_type": "markdown",
      "metadata": {},
      "source": [
        "VIF = 1 -> Absence of collinearity;\n",
        "VIF > 5 -> Multi-Collinearity\n",
        "VIF > 10 -> Strong Multi-Collinearity"
      ]
    },
    {
      "cell_type": "markdown",
      "metadata": {},
      "source": [
        "e) Produce diagnostic plots of the linear regression fit. Comment on any problems you see with the fit. Do the residual plot suggests any unusually large outliers? Does the leverage plot identify any observations with unusually high leverage?"
      ]
    },
    {
      "cell_type": "code",
      "metadata": {},
      "source": [
        "fitted_values = estimate.fittedvalues\n",
        "residuals = estimate.resid.values\n",
        "studentized_residuals = OLSInfluence(estimate).resid_studentized_internal\n",
        "leverages = OLSInfluence(estimate).influence\n",
        "\n",
        "fig, (ax1, ax2, ax3) = plt.subplots(1,3,figsize=(16,4))\n",
        "ax1.scatter(fitted_values, residuals, facecolor='none', edgecolor='b')\n",
        "ax1.set_xlabel('fitted values')\n",
        "ax1.set_ylabel('residuals')\n",
        "\n",
        "ax2.scatter(fitted_values, studentized_residuals, facecolor='none', edgecolor='b')\n",
        "ax2.set_xlabel('fitted values')\n",
        "ax2.set_ylabel('studentized residuals')\n",
        "\n",
        "ax3.scatter(leverages, studentized_residuals, facecolor='none', edgecolor='b')\n",
        "ax3.set_xlabel('leverages')\n",
        "ax3.set_ylabel('studentized_residuals')"
      ]
    },
    {
      "cell_type": "markdown",
      "metadata": {},
      "source": [
        "Residuals over fitted values shows a heavy U-shaped graph. This indicates a poor fit for a simple linear regression in the higher fitted values."
      ]
    },
    {
      "cell_type": "markdown",
      "metadata": {},
      "source": [
        "Studentized residuals over fitted values shows a U-shaped graph and heavy outliers with a >3 studentized residual value. This indicates an underfit."
      ]
    },
    {
      "cell_type": "markdown",
      "metadata": {},
      "source": [
        "Studentized residuals over leverages shows many values for leverages over (p+1)/n = (8+1)/392 = 0.02 here. This indicates a poor fit especially for outliers (duh) -> Better to use some quadratic function for fitting."
      ]
    },
    {
      "cell_type": "markdown",
      "metadata": {},
      "source": [
        "f) Fit linear regression models with interaction effects. Do any interactions appear to be statistically significant? Use the example:\n",
        "$\\text{mgp} = \\beta_0 + \\beta_1\\cdot\\text{weight} + \\beta_2\\cdot\\text{year} + \\beta_3\\cdot (\\text{weight}\\cdot \\text{year})$ "
      ]
    },
    {
      "cell_type": "code",
      "metadata": {},
      "source": [
        "auto_df['weight*year'] = auto_df.weight*auto_df.year\n",
        "X_interaction = sm.add_constant(auto_df[['weight', 'year', 'weight*year']])\n",
        "y = auto_df.mpg\n",
        "\n",
        "model = sm.OLS(y,X_interaction)\n",
        "estimate = model.fit()\n",
        "print(estimate.summary())\n"
      ]
    },
    {
      "cell_type": "markdown",
      "metadata": {},
      "source": [
        "g) Try a few different transformation of the variables, such as:"
      ]
    },
    {
      "cell_type": "markdown",
      "metadata": {},
      "source": [
        "i) Add a $\\text{weight}^2$ variable variable to the model of task f)."
      ]
    },
    {
      "cell_type": "code",
      "metadata": {},
      "source": [
        "auto_df['weight^2'] = auto_df.weight**2\n",
        "X_interaction = sm.add_constant(auto_df[['weight', 'weight^2', 'year', 'weight*year']])\n",
        "y = auto_df.mpg\n",
        "\n",
        "model = sm.OLS(y,X_interaction)\n",
        "estimate = model.fit()\n",
        "print(estimate.summary())\n",
        "\n",
        "# Obtain the residuals, studentized residuals and the leverages\n",
        "fitted_values = estimate.fittedvalues\n",
        "residuals = estimate.resid.values\n",
        "studentized_residuals = OLSInfluence(estimate).resid_studentized_internal\n",
        "leverages = OLSInfluence(estimate).influence\n",
        "\n",
        "# Plot\n",
        "fig, (ax1, ax2, ax3) = plt.subplots(1,3,figsize=(16,4))\n",
        "ax1.scatter(fitted_values, residuals, facecolor='none', edgecolor='b')\n",
        "ax1.set_xlabel('fitted values')\n",
        "ax1.set_ylabel('residuals')\n",
        "\n",
        "# Studentized Residuals\n",
        "ax2.scatter(fitted_values, studentized_residuals, facecolor='none', edgecolor='b')\n",
        "ax2.set_xlabel('fitted values')\n",
        "ax2.set_ylabel('studentized residuals')\n",
        "\n",
        "# Leverages\n",
        "ax3.scatter(leverages, studentized_residuals, facecolor='none', edgecolor='b')\n",
        "ax3.set_xlabel('leverages')\n",
        "ax3.set_ylabel('studentized_residuals')"
      ]
    },
    {
      "cell_type": "markdown",
      "metadata": {},
      "source": [
        "ii) Add a $\\text{weight}^{\\frac{1}{2}}$ variable to the model of task f)."
      ]
    },
    {
      "cell_type": "code",
      "metadata": {},
      "source": [
        "auto_df['weight^0.5'] = auto_df.weight**0.5\n",
        "X_interaction = sm.add_constant(auto_df[['weight', 'year', 'weight^0.5']])\n",
        "\n",
        "model = sm.OLS(y,X_interaction)\n",
        "estimate = model.fit()\n",
        "print(estimate.summary())\n",
        "\n",
        "fitted_values = estimate.fittedvalues\n",
        "residuals = estimate.resid.values\n",
        "studentized_residuals = OLSInfluence(estimate).resid_studentized_internal\n",
        "leverages = OLSInfluence(estimate).influence\n",
        "\n",
        "fig, (ax1, ax2, ax3) = plt.subplots(1,3,figsize=(16,4))\n",
        "ax1.scatter(fitted_values, residuals, facecolor='none', edgecolor='b')\n",
        "ax1.set_xlabel('fitted values')\n",
        "ax1.set_ylabel('residuals')\n",
        "\n",
        "ax2.scatter(fitted_values, studentized_residuals, facecolor='none', edgecolor='b')\n",
        "ax2.set_xlabel('fitted values')\n",
        "ax2.set_ylabel('studentized residuals')\n",
        "\n",
        "ax3.scatter(leverages, studentized_residuals, facecolor='none', edgecolor='b')\n",
        "ax3.set_xlabel('leverages')\n",
        "ax3.set_ylabel('studentized_residuals')"
      ]
    },
    {
      "cell_type": "markdown",
      "metadata": {},
      "source": [
        "iii) Add a $\\log(\\text{weight})$ variable to the model of task f)."
      ]
    },
    {
      "cell_type": "code",
      "metadata": {},
      "source": [
        "auto_df['log(weight)'] = np.log(auto_df.weight)\n",
        "X_interaction = sm.add_constant(auto_df[['weight', 'year', 'log(weight)']])\n",
        "\n",
        "model = sm.OLS(y,X_interaction)\n",
        "estimate = model.fit()\n",
        "print(estimate.summary())\n",
        "\n",
        "fitted_values = estimate.fittedvalues\n",
        "residuals = estimate.resid.values\n",
        "studentized_residuals = OLSInfluence(estimate).resid_studentized_internal\n",
        "leverages = OLSInfluence(estimate).influence\n",
        "\n",
        "fig, (ax1, ax2, ax3) = plt.subplots(1,3,figsize=(16,4))\n",
        "ax1.scatter(fitted_values, residuals, facecolor='none', edgecolor='b')\n",
        "ax1.set_xlabel('fitted values')\n",
        "ax1.set_ylabel('residuals')\n",
        "\n",
        "ax2.scatter(fitted_values, studentized_residuals, facecolor='none', edgecolor='b')\n",
        "ax2.set_xlabel('fitted values')\n",
        "ax2.set_ylabel('studentized residuals')\n",
        "\n",
        "ax3.scatter(leverages, studentized_residuals, facecolor='none', edgecolor='b')\n",
        "ax3.set_xlabel('leverages')\n",
        "ax3.set_ylabel('studentized_residuals')"
      ]
    }
  ],
  "metadata": {
    "kernelspec": {
      "display_name": ".venv",
      "language": "python",
      "name": "python3"
    },
    "language_info": {
      "codemirror_mode": {
        "name": "ipython",
        "version": 3
      },
      "file_extension": ".py",
      "mimetype": "text/x-python",
      "name": "python",
      "nbconvert_exporter": "python",
      "pygments_lexer": "ipython3",
      "version": "3.12.3"
    }
  },
  "nbformat": 4,
  "nbformat_minor": 4
}

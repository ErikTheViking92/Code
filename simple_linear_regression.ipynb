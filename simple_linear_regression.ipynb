{
  "cells": [
    {
      "cell_type": "markdown",
      "metadata": {},
      "source": [
        "# Simple linear regression\n",
        "\n",
        "This exercise is useful to see in practice:\n",
        "- How to lead a simple linear regression model\n",
        "- Plot graphs of results\n",
        "- Analyze the residuals, the studentized residuals and the leverage points."
      ]
    },
    {
      "cell_type": "markdown",
      "metadata": {},
      "source": [
        "Import all the packages that we need."
      ]
    },
    {
      "cell_type": "code",
      "metadata": {},
      "source": [
        "import statsmodels.api as sm\n",
        "import numpy as np\n",
        "import pandas as pd\n",
        "import seaborn as sns\n",
        "\n",
        "from matplotlib import pyplot as plt\n",
        "from statsmodels.stats.outliers_influence import OLSInfluence\n",
        "\n",
        "%matplotlib inline\n",
        "plt.style.use('ggplot') # emulate pretty r-style plots"
      ]
    },
    {
      "cell_type": "markdown",
      "metadata": {},
      "source": [
        "Read the data from Auto.csv and remove all rows, that are not complete."
      ]
    },
    {
      "cell_type": "code",
      "metadata": {},
      "source": [
        "auto_df = pd.read_csv('Data/Auto.csv', na_values='?')\n",
        "auto_df = auto_df.dropna()\n",
        "\n",
        "auto_df.head()"
      ]
    },
    {
      "cell_type": "markdown",
      "metadata": {},
      "source": [
        "a) Perform a simple linear regression with 'mpg' as the response and 'horsepower' as the predictor. Print the results. Comment on the output."
      ]
    },
    {
      "cell_type": "code",
      "metadata": {},
      "source": [
        "X = sm.add_constant(auto_df.horsepower)\n",
        "y = auto_df.mpg\n",
        "model = sm.OLS(y, X)\n",
        "estimate = model.fit()\n",
        "print(estimate.summary())"
      ]
    },
    {
      "cell_type": "code",
      "metadata": {},
      "source": [
        "Y = 39.9359 + -0.1578 * 98\n",
        "Y"
      ]
    },
    {
      "cell_type": "markdown",
      "metadata": {},
      "source": [
        "b) Plot the data and the estimate (response and predictor)"
      ]
    },
    {
      "cell_type": "code",
      "metadata": {},
      "source": [
        "fig, ax = plt.subplots(figsize=(8,6))\n",
        "ax.scatter(X.horsepower.values, y.values, facecolor = 'none', edgecolor = 'b', label='data')\n",
        "ax.plot(X.horsepower.values, estimate.fittedvalues, 'r', label='OLS')\n",
        "ax.legend(loc='best')\n",
        "fitted_values = estimate.fittedvalues\n",
        "\n",
        "print('Fitted values: ', fitted_values)\n",
        "# sns.displot(auto_df.mpg, kde=True, bins=20, color='green')"
      ]
    },
    {
      "cell_type": "markdown",
      "metadata": {},
      "source": [
        "c) Produce diagnostic plots of the least squares regression fit. Comment on any problem you see with the fit."
      ]
    },
    {
      "cell_type": "code",
      "metadata": {},
      "source": [
        "fitted_values = estimate.fittedvalues\n",
        "residuals = estimate.resid.values\n",
        "studentized_residuals = OLSInfluence(estimate).resid_studentized_internal\n",
        "leverages = OLSInfluence(estimate).influence\n",
        "\n",
        "fig, (ax1, ax2, ax3) = plt.subplots(1,3,figsize=(16,4))\n",
        "ax1.scatter(fitted_values, residuals, facecolor='none', edgecolor='b')\n",
        "ax1.set_xlabel('fitted values')\n",
        "ax1.set_ylabel('residuals')\n",
        "\n",
        "ax2.scatter(fitted_values, studentized_residuals, facecolor='none', edgecolor='b')\n",
        "ax2.set_xlabel('fitted values')\n",
        "ax2.set_ylabel('studentized residuals')\n",
        "\n",
        "ax3.scatter(leverages, studentized_residuals, facecolor='none', edgecolor='b')\n",
        "ax3.set_xlabel('leverages')\n",
        "ax3.set_ylabel('studentized_residuals')"
      ]
    },
    {
      "cell_type": "markdown",
      "metadata": {},
      "source": [
        "Residuals over fitted values shows a heavy U-shaped graph. This indicates a poor fit for a simple linear regression in the higher fitted values."
      ]
    },
    {
      "cell_type": "markdown",
      "metadata": {},
      "source": [
        "Studentized residuals over fitted values shows a U-shaped graph and heavy outliers with a >3 studentized residual value (two points). This indicates an underfit."
      ]
    },
    {
      "cell_type": "markdown",
      "metadata": {},
      "source": [
        "Studentized residuals over leverages shows many values for leverages over (p+1)/n = (2+1)/392 = 0.005 here. This indicates a poor fit especially for outliers (duh) -> Better to use some quadratic function for fitting."
      ]
    }
  ],
  "metadata": {
    "kernelspec": {
      "display_name": ".venv",
      "language": "python",
      "name": "python3"
    },
    "language_info": {
      "codemirror_mode": {
        "name": "ipython",
        "version": 3
      },
      "file_extension": ".py",
      "mimetype": "text/x-python",
      "name": "python",
      "nbconvert_exporter": "python",
      "pygments_lexer": "ipython3",
      "version": "3.12.3"
    }
  },
  "nbformat": 4,
  "nbformat_minor": 4
}
